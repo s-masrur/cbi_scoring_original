{
 "cells": [
  {
   "cell_type": "code",
   "execution_count": 1,
   "id": "0e4a4c19-1a69-4c4c-9afa-523a6498780c",
   "metadata": {
    "pycharm": {
     "name": "#%%\n"
    }
   },
   "outputs": [],
   "source": [
    "import pandas as pd\n",
    "import numpy as np\n",
    "from pycaret.classification import *\n",
    "from sklearn.metrics import classification_report, confusion_matrix, roc_auc_score, accuracy_score\n",
    "from pprint import pprint"
   ]
  },
  {
   "cell_type": "code",
   "execution_count": 2,
   "id": "433d0d72-5b5e-433e-b83e-13b69ef5d7d8",
   "metadata": {},
   "outputs": [],
   "source": [
    "pd.set_option('display.max_columns', None)"
   ]
  },
  {
   "cell_type": "code",
   "execution_count": 3,
   "id": "b13dbe83",
   "metadata": {
    "collapsed": false,
    "jupyter": {
     "outputs_hidden": false
    },
    "pycharm": {
     "name": "#%%\n"
    }
   },
   "outputs": [],
   "source": [
    "synth = pd.read_csv('data/cbi_synthetic_on_train_1080.csv')"
   ]
  },
  {
   "cell_type": "code",
   "execution_count": 4,
   "id": "942cca65",
   "metadata": {
    "collapsed": false,
    "jupyter": {
     "outputs_hidden": false
    },
    "pycharm": {
     "name": "#%%\n"
    }
   },
   "outputs": [],
   "source": [
    "train = pd.read_excel('data/cbi_train_set.xlsx')\n",
    "test = pd.read_excel('data/cbi_test_set.xlsx')"
   ]
  },
  {
   "cell_type": "code",
   "execution_count": 5,
   "id": "f11650fe",
   "metadata": {},
   "outputs": [],
   "source": [
    "synth['origin'] = 'synth'\n",
    "train['origin'] = 'train'\n",
    "test['origin'] = 'test'"
   ]
  },
  {
   "cell_type": "code",
   "execution_count": 6,
   "id": "e569772c-9bd0-448d-ae36-b5a6a9e4a241",
   "metadata": {},
   "outputs": [],
   "source": [
    "# taking n samples from total of 1080 synthetic samples\n",
    "synth_n = synth.sample(n=100)"
   ]
  },
  {
   "cell_type": "code",
   "execution_count": 7,
   "id": "4547706a",
   "metadata": {},
   "outputs": [],
   "source": [
    "data_synth = pd.concat([synth_n, train])"
   ]
  },
  {
   "cell_type": "markdown",
   "id": "bcf22e99",
   "metadata": {
    "collapsed": false,
    "jupyter": {
     "outputs_hidden": false
    },
    "pycharm": {
     "name": "#%% md\n"
    }
   },
   "source": [
    "---"
   ]
  },
  {
   "cell_type": "code",
   "execution_count": 8,
   "id": "ed5221fb",
   "metadata": {
    "collapsed": false,
    "jupyter": {
     "outputs_hidden": false
    },
    "pycharm": {
     "name": "#%%\n"
    }
   },
   "outputs": [],
   "source": [
    "target = 'cmltv_90_bad'\n",
    "\n",
    "cat_feats = [\n",
    "    'location',\n",
    "    'emirates',\n",
    "    'gender',\n",
    "    'family_status',\n",
    "    'employment_sphere',\n",
    "    'collateral',\n",
    "    'type_of_product',\n",
    "    'employment_level'\n",
    "]\n",
    "num_feats = [\n",
    "    'loan_amount',\n",
    "    'duration_at_disbursement_months',\n",
    "    'interest_rate',\n",
    "    'quantity_of_prior_loans_at_the_time_of_disbursement_at_cbi',\n",
    "    'age',\n",
    "    'monthly_income_aed',\n",
    "    'work_experience',\n",
    "    'inflation_rate',\n",
    "    'manufacturing_PMI',\n",
    "    'presence_of_car',\n",
    "    'presence_of_housing',\n",
    "    'CPI'\n",
    "]\n",
    "\n",
    "ignore_feats = [\n",
    "    'client_id',\n",
    "    'loan_currency',\n",
    "    'date_of_disbursement',\n",
    "    'date_of_closure_based_on_contract',\n",
    "    'max_dpd_3_year',\n",
    "    'cumulative_days_of_late_payments_throughout_loan_repayments',\n",
    "    'status_of_loan',\n",
    "    'quantity_of_prior_loans_at_cbi',\n",
    "    'coborrower',\n",
    "    'top_up',\n",
    "    'dsr',\n",
    "    'max_90_bad',\n",
    "    'origin'\n",
    "]"
   ]
  },
  {
   "cell_type": "code",
   "execution_count": 9,
   "id": "22801cbc-2fd0-44c4-8cec-a580121c5568",
   "metadata": {},
   "outputs": [
    {
     "data": {
      "text/plain": [
       "location                                                         0\n",
       "emirates                                                         0\n",
       "gender                                                           0\n",
       "family_status                                                    0\n",
       "employment_sphere                                                0\n",
       "collateral                                                       0\n",
       "type_of_product                                                  0\n",
       "employment_level                                                 0\n",
       "loan_amount                                                      0\n",
       "duration_at_disbursement_months                                  0\n",
       "interest_rate                                                    0\n",
       "quantity_of_prior_loans_at_the_time_of_disbursement_at_cbi       0\n",
       "age                                                              0\n",
       "monthly_income_aed                                               0\n",
       "work_experience                                                  2\n",
       "inflation_rate                                                  17\n",
       "manufacturing_PMI                                                0\n",
       "presence_of_car                                                  0\n",
       "presence_of_housing                                              0\n",
       "CPI                                                             19\n",
       "cmltv_90_bad                                                     0\n",
       "origin                                                           0\n",
       "client_id                                                      100\n",
       "loan_currency                                                  100\n",
       "date_of_disbursement                                           100\n",
       "date_of_closure_based_on_contract                              100\n",
       "max_dpd_3_year                                                 100\n",
       "cumulative_days_of_late_payments_throughout_loan_repayments    100\n",
       "status_of_loan                                                 100\n",
       "quantity_of_prior_loans_at_cbi                                 100\n",
       "coborrower                                                     100\n",
       "top_up                                                         100\n",
       "dsr                                                            141\n",
       "max_90_bad                                                     100\n",
       "dtype: int64"
      ]
     },
     "execution_count": 9,
     "metadata": {},
     "output_type": "execute_result"
    }
   ],
   "source": [
    "data_synth.isna().sum()"
   ]
  },
  {
   "cell_type": "code",
   "execution_count": 10,
   "id": "67eccfdc",
   "metadata": {
    "collapsed": false,
    "jupyter": {
     "outputs_hidden": false
    },
    "pycharm": {
     "name": "#%%\n"
    }
   },
   "outputs": [],
   "source": [
    "data_synth.dropna(subset=cat_feats+num_feats, inplace=True)\n",
    "test.dropna(subset=cat_feats+num_feats, inplace=True)"
   ]
  },
  {
   "cell_type": "markdown",
   "id": "ef28a622",
   "metadata": {
    "collapsed": false,
    "jupyter": {
     "outputs_hidden": false
    },
    "pycharm": {
     "name": "#%% md\n"
    }
   },
   "source": [
    "\n",
    "---"
   ]
  },
  {
   "cell_type": "code",
   "execution_count": 11,
   "id": "070eb715-3cf5-4fe0-b1d8-d1374d16f8fc",
   "metadata": {},
   "outputs": [],
   "source": [
    "# Target mean encoding #\n",
    "for feat in cat_feats:\n",
    "    stats = train[target].groupby(train[feat]).agg(['count', 'mean'])\n",
    "    data_synth[feat+'_mean_encoded'] = data_synth[feat].copy()\n",
    "    test[feat+'_mean_encoded'] = test[feat].copy()\n",
    "    \n",
    "    for i in data_synth[feat+'_mean_encoded'].unique():\n",
    "        data_synth[feat+'_mean_encoded'].replace(i, stats.loc[i]['mean'], inplace=True)\n",
    "        test[feat+'_mean_encoded'].replace(i, stats.loc[i]['mean'], inplace=True)"
   ]
  },
  {
   "cell_type": "markdown",
   "id": "b3ace64b-df26-40d0-885b-cca525793232",
   "metadata": {
    "pycharm": {
     "name": "#%% md\n"
    }
   },
   "source": [
    "---"
   ]
  },
  {
   "cell_type": "code",
   "execution_count": 12,
   "id": "718503a8-9a4b-4a22-9de5-792135becc73",
   "metadata": {},
   "outputs": [],
   "source": [
    "# Removing classes that are in test set but not in train set #\n",
    "for i in test.index :\n",
    "    for feat in cat_feats :\n",
    "        if type(test[feat+'_mean_encoded'][i]) == str:\n",
    "            test.drop(i, inplace=True)\n",
    "            break"
   ]
  },
  {
   "cell_type": "code",
   "execution_count": 13,
   "id": "2ee5c2cf-49f0-4345-9cfa-0f9ae1d75502",
   "metadata": {
    "pycharm": {
     "name": "#%%\n"
    }
   },
   "outputs": [],
   "source": [
    "# We move all categorical variables to numerical list #\n",
    "for i in cat_feats:\n",
    "    num_feats.extend( [i+'_mean_encoded'] )\n",
    "    ignore_feats.extend([i])\n",
    "\n",
    "cat_feats.clear()"
   ]
  },
  {
   "cell_type": "markdown",
   "id": "e7569763-38d1-479d-bba2-5c1e889adf7f",
   "metadata": {
    "pycharm": {
     "name": "#%% md\n"
    }
   },
   "source": [
    "---"
   ]
  },
  {
   "cell_type": "code",
   "execution_count": 14,
   "id": "42e7e452-9a39-468c-860d-d91ca9d32726",
   "metadata": {
    "pycharm": {
     "name": "#%%\n"
    }
   },
   "outputs": [
    {
     "name": "stdout",
     "output_type": "stream",
     "text": [
      "All variables are found in feature lists\n"
     ]
    }
   ],
   "source": [
    "# CHECK IF ALL COLUMNS ARE USED OR IF THERE IS AN EXTRA COLUMN\n",
    "all_columns = cat_feats + num_feats + ignore_feats\n",
    "dataset_columns = list(data_synth.columns)\n",
    "dataset_columns.remove(target)\n",
    "\n",
    "if sorted(all_columns) == sorted(dataset_columns) :\n",
    "    print( 'All variables are found in feature lists' )\n",
    "else :\n",
    "    print('Features found in dataset but not in lists :')\n",
    "    for i in dataset_columns :\n",
    "        if i not in all_columns :\n",
    "            print(i)\n",
    "    \n",
    "    print('-'*50)\n",
    "    print('Features found in lists but not in dataset')\n",
    "    for i in all_columns :\n",
    "        if i not in dataset_columns :\n",
    "            print(i)"
   ]
  },
  {
   "cell_type": "code",
   "execution_count": 15,
   "id": "31684dce-9db6-42fb-a382-a83bf19e9ddf",
   "metadata": {
    "pycharm": {
     "name": "#%%\n"
    }
   },
   "outputs": [
    {
     "data": {
      "text/plain": [
       "True"
      ]
     },
     "execution_count": 15,
     "metadata": {},
     "output_type": "execute_result"
    }
   ],
   "source": [
    "# CHECK IF ALL COLUMNS ARE USED OR IF THERE IS AN EXTRA COLUMN\n",
    "all_columns = cat_feats + num_feats + ignore_feats\n",
    "dataset_columns = list(data_synth.columns)\n",
    "dataset_columns.remove(target)\n",
    "sorted(all_columns) == sorted(dataset_columns)"
   ]
  },
  {
   "cell_type": "markdown",
   "id": "3560605a-c2f8-4720-9592-e54fd6e94956",
   "metadata": {
    "pycharm": {
     "name": "#%% md\n"
    }
   },
   "source": [
    "# Modeling\n",
    "---"
   ]
  },
  {
   "cell_type": "code",
   "execution_count": 16,
   "id": "19e7e753-bfdb-4772-8a54-a3d7bcf36bbf",
   "metadata": {},
   "outputs": [],
   "source": [
    "train = data_synth[data_synth['origin'] == 'train']"
   ]
  },
  {
   "cell_type": "code",
   "execution_count": 17,
   "id": "bcfe7014-256e-4a2a-9642-7f44a5b8e2ff",
   "metadata": {},
   "outputs": [],
   "source": [
    "data_synth.reset_index(inplace=True, drop=True)\n",
    "test.reset_index(inplace=True, drop=True)\n",
    "train.reset_index(inplace=True, drop=True)"
   ]
  },
  {
   "cell_type": "code",
   "execution_count": 18,
   "id": "562fbf30-b75b-49cf-91a8-3d9a3edfddb7",
   "metadata": {
    "pycharm": {
     "name": "#%%\n"
    },
    "tags": []
   },
   "outputs": [
    {
     "data": {
      "text/html": [
       "<style type=\"text/css\">\n",
       "#T_680c7_row10_col1, #T_680c7_row14_col1 {\n",
       "  background-color: lightgreen;\n",
       "}\n",
       "</style>\n",
       "<table id=\"T_680c7\">\n",
       "  <thead>\n",
       "    <tr>\n",
       "      <th class=\"blank level0\" >&nbsp;</th>\n",
       "      <th id=\"T_680c7_level0_col0\" class=\"col_heading level0 col0\" >Description</th>\n",
       "      <th id=\"T_680c7_level0_col1\" class=\"col_heading level0 col1\" >Value</th>\n",
       "    </tr>\n",
       "  </thead>\n",
       "  <tbody>\n",
       "    <tr>\n",
       "      <th id=\"T_680c7_level0_row0\" class=\"row_heading level0 row0\" >0</th>\n",
       "      <td id=\"T_680c7_row0_col0\" class=\"data row0 col0\" >Session id</td>\n",
       "      <td id=\"T_680c7_row0_col1\" class=\"data row0 col1\" >1522</td>\n",
       "    </tr>\n",
       "    <tr>\n",
       "      <th id=\"T_680c7_level0_row1\" class=\"row_heading level0 row1\" >1</th>\n",
       "      <td id=\"T_680c7_row1_col0\" class=\"data row1 col0\" >Target</td>\n",
       "      <td id=\"T_680c7_row1_col1\" class=\"data row1 col1\" >cmltv_90_bad</td>\n",
       "    </tr>\n",
       "    <tr>\n",
       "      <th id=\"T_680c7_level0_row2\" class=\"row_heading level0 row2\" >2</th>\n",
       "      <td id=\"T_680c7_row2_col0\" class=\"data row2 col0\" >Target type</td>\n",
       "      <td id=\"T_680c7_row2_col1\" class=\"data row2 col1\" >Binary</td>\n",
       "    </tr>\n",
       "    <tr>\n",
       "      <th id=\"T_680c7_level0_row3\" class=\"row_heading level0 row3\" >3</th>\n",
       "      <td id=\"T_680c7_row3_col0\" class=\"data row3 col0\" >Original data shape</td>\n",
       "      <td id=\"T_680c7_row3_col1\" class=\"data row3 col1\" >(2783, 42)</td>\n",
       "    </tr>\n",
       "    <tr>\n",
       "      <th id=\"T_680c7_level0_row4\" class=\"row_heading level0 row4\" >4</th>\n",
       "      <td id=\"T_680c7_row4_col0\" class=\"data row4 col0\" >Transformed data shape</td>\n",
       "      <td id=\"T_680c7_row4_col1\" class=\"data row4 col1\" >(2783, 21)</td>\n",
       "    </tr>\n",
       "    <tr>\n",
       "      <th id=\"T_680c7_level0_row5\" class=\"row_heading level0 row5\" >5</th>\n",
       "      <td id=\"T_680c7_row5_col0\" class=\"data row5 col0\" >Transformed train set shape</td>\n",
       "      <td id=\"T_680c7_row5_col1\" class=\"data row5 col1\" >(2255, 21)</td>\n",
       "    </tr>\n",
       "    <tr>\n",
       "      <th id=\"T_680c7_level0_row6\" class=\"row_heading level0 row6\" >6</th>\n",
       "      <td id=\"T_680c7_row6_col0\" class=\"data row6 col0\" >Transformed test set shape</td>\n",
       "      <td id=\"T_680c7_row6_col1\" class=\"data row6 col1\" >(528, 21)</td>\n",
       "    </tr>\n",
       "    <tr>\n",
       "      <th id=\"T_680c7_level0_row7\" class=\"row_heading level0 row7\" >7</th>\n",
       "      <td id=\"T_680c7_row7_col0\" class=\"data row7 col0\" >Ignore features</td>\n",
       "      <td id=\"T_680c7_row7_col1\" class=\"data row7 col1\" >21</td>\n",
       "    </tr>\n",
       "    <tr>\n",
       "      <th id=\"T_680c7_level0_row8\" class=\"row_heading level0 row8\" >8</th>\n",
       "      <td id=\"T_680c7_row8_col0\" class=\"data row8 col0\" >Numeric features</td>\n",
       "      <td id=\"T_680c7_row8_col1\" class=\"data row8 col1\" >20</td>\n",
       "    </tr>\n",
       "    <tr>\n",
       "      <th id=\"T_680c7_level0_row9\" class=\"row_heading level0 row9\" >9</th>\n",
       "      <td id=\"T_680c7_row9_col0\" class=\"data row9 col0\" >Rows with missing values</td>\n",
       "      <td id=\"T_680c7_row9_col1\" class=\"data row9 col1\" >5.2%</td>\n",
       "    </tr>\n",
       "    <tr>\n",
       "      <th id=\"T_680c7_level0_row10\" class=\"row_heading level0 row10\" >10</th>\n",
       "      <td id=\"T_680c7_row10_col0\" class=\"data row10 col0\" >Preprocess</td>\n",
       "      <td id=\"T_680c7_row10_col1\" class=\"data row10 col1\" >True</td>\n",
       "    </tr>\n",
       "    <tr>\n",
       "      <th id=\"T_680c7_level0_row11\" class=\"row_heading level0 row11\" >11</th>\n",
       "      <td id=\"T_680c7_row11_col0\" class=\"data row11 col0\" >Imputation type</td>\n",
       "      <td id=\"T_680c7_row11_col1\" class=\"data row11 col1\" >simple</td>\n",
       "    </tr>\n",
       "    <tr>\n",
       "      <th id=\"T_680c7_level0_row12\" class=\"row_heading level0 row12\" >12</th>\n",
       "      <td id=\"T_680c7_row12_col0\" class=\"data row12 col0\" >Numeric imputation</td>\n",
       "      <td id=\"T_680c7_row12_col1\" class=\"data row12 col1\" >mean</td>\n",
       "    </tr>\n",
       "    <tr>\n",
       "      <th id=\"T_680c7_level0_row13\" class=\"row_heading level0 row13\" >13</th>\n",
       "      <td id=\"T_680c7_row13_col0\" class=\"data row13 col0\" >Categorical imputation</td>\n",
       "      <td id=\"T_680c7_row13_col1\" class=\"data row13 col1\" >mode</td>\n",
       "    </tr>\n",
       "    <tr>\n",
       "      <th id=\"T_680c7_level0_row14\" class=\"row_heading level0 row14\" >14</th>\n",
       "      <td id=\"T_680c7_row14_col0\" class=\"data row14 col0\" >Remove multicollinearity</td>\n",
       "      <td id=\"T_680c7_row14_col1\" class=\"data row14 col1\" >True</td>\n",
       "    </tr>\n",
       "    <tr>\n",
       "      <th id=\"T_680c7_level0_row15\" class=\"row_heading level0 row15\" >15</th>\n",
       "      <td id=\"T_680c7_row15_col0\" class=\"data row15 col0\" >Multicollinearity threshold</td>\n",
       "      <td id=\"T_680c7_row15_col1\" class=\"data row15 col1\" >0.850000</td>\n",
       "    </tr>\n",
       "    <tr>\n",
       "      <th id=\"T_680c7_level0_row16\" class=\"row_heading level0 row16\" >16</th>\n",
       "      <td id=\"T_680c7_row16_col0\" class=\"data row16 col0\" >Fold Generator</td>\n",
       "      <td id=\"T_680c7_row16_col1\" class=\"data row16 col1\" >StratifiedKFold</td>\n",
       "    </tr>\n",
       "    <tr>\n",
       "      <th id=\"T_680c7_level0_row17\" class=\"row_heading level0 row17\" >17</th>\n",
       "      <td id=\"T_680c7_row17_col0\" class=\"data row17 col0\" >Fold Number</td>\n",
       "      <td id=\"T_680c7_row17_col1\" class=\"data row17 col1\" >10</td>\n",
       "    </tr>\n",
       "    <tr>\n",
       "      <th id=\"T_680c7_level0_row18\" class=\"row_heading level0 row18\" >18</th>\n",
       "      <td id=\"T_680c7_row18_col0\" class=\"data row18 col0\" >CPU Jobs</td>\n",
       "      <td id=\"T_680c7_row18_col1\" class=\"data row18 col1\" >-1</td>\n",
       "    </tr>\n",
       "    <tr>\n",
       "      <th id=\"T_680c7_level0_row19\" class=\"row_heading level0 row19\" >19</th>\n",
       "      <td id=\"T_680c7_row19_col0\" class=\"data row19 col0\" >Use GPU</td>\n",
       "      <td id=\"T_680c7_row19_col1\" class=\"data row19 col1\" >False</td>\n",
       "    </tr>\n",
       "    <tr>\n",
       "      <th id=\"T_680c7_level0_row20\" class=\"row_heading level0 row20\" >20</th>\n",
       "      <td id=\"T_680c7_row20_col0\" class=\"data row20 col0\" >Log Experiment</td>\n",
       "      <td id=\"T_680c7_row20_col1\" class=\"data row20 col1\" >False</td>\n",
       "    </tr>\n",
       "    <tr>\n",
       "      <th id=\"T_680c7_level0_row21\" class=\"row_heading level0 row21\" >21</th>\n",
       "      <td id=\"T_680c7_row21_col0\" class=\"data row21 col0\" >Experiment Name</td>\n",
       "      <td id=\"T_680c7_row21_col1\" class=\"data row21 col1\" >clf-default-name</td>\n",
       "    </tr>\n",
       "    <tr>\n",
       "      <th id=\"T_680c7_level0_row22\" class=\"row_heading level0 row22\" >22</th>\n",
       "      <td id=\"T_680c7_row22_col0\" class=\"data row22 col0\" >USI</td>\n",
       "      <td id=\"T_680c7_row22_col1\" class=\"data row22 col1\" >e23f</td>\n",
       "    </tr>\n",
       "  </tbody>\n",
       "</table>\n"
      ],
      "text/plain": [
       "<pandas.io.formats.style.Styler at 0x1d2d9f91e50>"
      ]
     },
     "metadata": {},
     "output_type": "display_data"
    },
    {
     "data": {
      "text/plain": [
       "<pycaret.classification.oop.ClassificationExperiment at 0x1d2d5530940>"
      ]
     },
     "execution_count": 18,
     "metadata": {},
     "output_type": "execute_result"
    }
   ],
   "source": [
    "exp = ClassificationExperiment()\n",
    "exp.setup(\n",
    "    data = data_synth,\n",
    "    test_data = test,\n",
    "    target = target,\n",
    "    index = False,\n",
    "    \n",
    "    # categorical_imputation='mode',\n",
    "    # numeric_imputation='mean',\n",
    "    \n",
    "    categorical_features=cat_feats,\n",
    "    numeric_features=num_feats,\n",
    "    ignore_features=ignore_feats,\n",
    "    \n",
    "    remove_multicollinearity=True,\n",
    "    multicollinearity_threshold=0.85,\n",
    "    \n",
    "    use_gpu=False,\n",
    "    memory=False\n",
    ")"
   ]
  },
  {
   "cell_type": "code",
   "execution_count": 19,
   "id": "50a1bcc6-dd6f-4939-9f43-d049b748b1ff",
   "metadata": {
    "pycharm": {
     "name": "#%%\n"
    }
   },
   "outputs": [
    {
     "data": {
      "text/html": [],
      "text/plain": [
       "<IPython.core.display.HTML object>"
      ]
     },
     "metadata": {},
     "output_type": "display_data"
    },
    {
     "data": {
      "text/html": [
       "<style type=\"text/css\">\n",
       "#T_b072e_row5_col0, #T_b072e_row5_col1, #T_b072e_row5_col2, #T_b072e_row5_col3, #T_b072e_row5_col4, #T_b072e_row5_col5, #T_b072e_row5_col6 {\n",
       "  background: yellow;\n",
       "}\n",
       "</style>\n",
       "<table id=\"T_b072e\">\n",
       "  <thead>\n",
       "    <tr>\n",
       "      <th class=\"blank level0\" >&nbsp;</th>\n",
       "      <th id=\"T_b072e_level0_col0\" class=\"col_heading level0 col0\" >Accuracy</th>\n",
       "      <th id=\"T_b072e_level0_col1\" class=\"col_heading level0 col1\" >AUC</th>\n",
       "      <th id=\"T_b072e_level0_col2\" class=\"col_heading level0 col2\" >Recall</th>\n",
       "      <th id=\"T_b072e_level0_col3\" class=\"col_heading level0 col3\" >Prec.</th>\n",
       "      <th id=\"T_b072e_level0_col4\" class=\"col_heading level0 col4\" >F1</th>\n",
       "      <th id=\"T_b072e_level0_col5\" class=\"col_heading level0 col5\" >Kappa</th>\n",
       "      <th id=\"T_b072e_level0_col6\" class=\"col_heading level0 col6\" >MCC</th>\n",
       "    </tr>\n",
       "    <tr>\n",
       "      <th class=\"index_name level0\" >Fold</th>\n",
       "      <th class=\"blank col0\" >&nbsp;</th>\n",
       "      <th class=\"blank col1\" >&nbsp;</th>\n",
       "      <th class=\"blank col2\" >&nbsp;</th>\n",
       "      <th class=\"blank col3\" >&nbsp;</th>\n",
       "      <th class=\"blank col4\" >&nbsp;</th>\n",
       "      <th class=\"blank col5\" >&nbsp;</th>\n",
       "      <th class=\"blank col6\" >&nbsp;</th>\n",
       "    </tr>\n",
       "  </thead>\n",
       "  <tbody>\n",
       "    <tr>\n",
       "      <th id=\"T_b072e_level0_row0\" class=\"row_heading level0 row0\" >0</th>\n",
       "      <td id=\"T_b072e_row0_col0\" class=\"data row0 col0\" >0.8226</td>\n",
       "      <td id=\"T_b072e_row0_col1\" class=\"data row0 col1\" >0.7898</td>\n",
       "      <td id=\"T_b072e_row0_col2\" class=\"data row0 col2\" >0.3000</td>\n",
       "      <td id=\"T_b072e_row0_col3\" class=\"data row0 col3\" >0.6136</td>\n",
       "      <td id=\"T_b072e_row0_col4\" class=\"data row0 col4\" >0.4030</td>\n",
       "      <td id=\"T_b072e_row0_col5\" class=\"data row0 col5\" >0.3129</td>\n",
       "      <td id=\"T_b072e_row0_col6\" class=\"data row0 col6\" >0.3407</td>\n",
       "    </tr>\n",
       "    <tr>\n",
       "      <th id=\"T_b072e_level0_row1\" class=\"row_heading level0 row1\" >1</th>\n",
       "      <td id=\"T_b072e_row1_col0\" class=\"data row1 col0\" >0.8559</td>\n",
       "      <td id=\"T_b072e_row1_col1\" class=\"data row1 col1\" >0.8521</td>\n",
       "      <td id=\"T_b072e_row1_col2\" class=\"data row1 col2\" >0.3111</td>\n",
       "      <td id=\"T_b072e_row1_col3\" class=\"data row1 col3\" >0.9032</td>\n",
       "      <td id=\"T_b072e_row1_col4\" class=\"data row1 col4\" >0.4628</td>\n",
       "      <td id=\"T_b072e_row1_col5\" class=\"data row1 col5\" >0.4016</td>\n",
       "      <td id=\"T_b072e_row1_col6\" class=\"data row1 col6\" >0.4783</td>\n",
       "    </tr>\n",
       "    <tr>\n",
       "      <th id=\"T_b072e_level0_row2\" class=\"row_heading level0 row2\" >2</th>\n",
       "      <td id=\"T_b072e_row2_col0\" class=\"data row2 col0\" >0.8271</td>\n",
       "      <td id=\"T_b072e_row2_col1\" class=\"data row2 col1\" >0.8471</td>\n",
       "      <td id=\"T_b072e_row2_col2\" class=\"data row2 col2\" >0.3000</td>\n",
       "      <td id=\"T_b072e_row2_col3\" class=\"data row2 col3\" >0.6429</td>\n",
       "      <td id=\"T_b072e_row2_col4\" class=\"data row2 col4\" >0.4091</td>\n",
       "      <td id=\"T_b072e_row2_col5\" class=\"data row2 col5\" >0.3231</td>\n",
       "      <td id=\"T_b072e_row2_col6\" class=\"data row2 col6\" >0.3554</td>\n",
       "    </tr>\n",
       "    <tr>\n",
       "      <th id=\"T_b072e_level0_row3\" class=\"row_heading level0 row3\" >3</th>\n",
       "      <td id=\"T_b072e_row3_col0\" class=\"data row3 col0\" >0.8315</td>\n",
       "      <td id=\"T_b072e_row3_col1\" class=\"data row3 col1\" >0.7712</td>\n",
       "      <td id=\"T_b072e_row3_col2\" class=\"data row3 col2\" >0.2637</td>\n",
       "      <td id=\"T_b072e_row3_col3\" class=\"data row3 col3\" >0.7273</td>\n",
       "      <td id=\"T_b072e_row3_col4\" class=\"data row3 col4\" >0.3871</td>\n",
       "      <td id=\"T_b072e_row3_col5\" class=\"data row3 col5\" >0.3134</td>\n",
       "      <td id=\"T_b072e_row3_col6\" class=\"data row3 col6\" >0.3679</td>\n",
       "    </tr>\n",
       "    <tr>\n",
       "      <th id=\"T_b072e_level0_row4\" class=\"row_heading level0 row4\" >4</th>\n",
       "      <td id=\"T_b072e_row4_col0\" class=\"data row4 col0\" >0.8293</td>\n",
       "      <td id=\"T_b072e_row4_col1\" class=\"data row4 col1\" >0.8085</td>\n",
       "      <td id=\"T_b072e_row4_col2\" class=\"data row4 col2\" >0.2857</td>\n",
       "      <td id=\"T_b072e_row4_col3\" class=\"data row4 col3\" >0.6842</td>\n",
       "      <td id=\"T_b072e_row4_col4\" class=\"data row4 col4\" >0.4031</td>\n",
       "      <td id=\"T_b072e_row4_col5\" class=\"data row4 col5\" >0.3226</td>\n",
       "      <td id=\"T_b072e_row4_col6\" class=\"data row4 col6\" >0.3646</td>\n",
       "    </tr>\n",
       "    <tr>\n",
       "      <th id=\"T_b072e_level0_row5\" class=\"row_heading level0 row5\" >Mean</th>\n",
       "      <td id=\"T_b072e_row5_col0\" class=\"data row5 col0\" >0.8333</td>\n",
       "      <td id=\"T_b072e_row5_col1\" class=\"data row5 col1\" >0.8137</td>\n",
       "      <td id=\"T_b072e_row5_col2\" class=\"data row5 col2\" >0.2921</td>\n",
       "      <td id=\"T_b072e_row5_col3\" class=\"data row5 col3\" >0.7142</td>\n",
       "      <td id=\"T_b072e_row5_col4\" class=\"data row5 col4\" >0.4130</td>\n",
       "      <td id=\"T_b072e_row5_col5\" class=\"data row5 col5\" >0.3347</td>\n",
       "      <td id=\"T_b072e_row5_col6\" class=\"data row5 col6\" >0.3814</td>\n",
       "    </tr>\n",
       "    <tr>\n",
       "      <th id=\"T_b072e_level0_row6\" class=\"row_heading level0 row6\" >Std</th>\n",
       "      <td id=\"T_b072e_row6_col0\" class=\"data row6 col0\" >0.0117</td>\n",
       "      <td id=\"T_b072e_row6_col1\" class=\"data row6 col1\" >0.0316</td>\n",
       "      <td id=\"T_b072e_row6_col2\" class=\"data row6 col2\" >0.0163</td>\n",
       "      <td id=\"T_b072e_row6_col3\" class=\"data row6 col3\" >0.1020</td>\n",
       "      <td id=\"T_b072e_row6_col4\" class=\"data row6 col4\" >0.0259</td>\n",
       "      <td id=\"T_b072e_row6_col5\" class=\"data row6 col5\" >0.0337</td>\n",
       "      <td id=\"T_b072e_row6_col6\" class=\"data row6 col6\" >0.0494</td>\n",
       "    </tr>\n",
       "  </tbody>\n",
       "</table>\n"
      ],
      "text/plain": [
       "<pandas.io.formats.style.Styler at 0x1d2d9fcca90>"
      ]
     },
     "metadata": {},
     "output_type": "display_data"
    },
    {
     "data": {
      "application/vnd.jupyter.widget-view+json": {
       "model_id": "7dce1687613748a3b3689c672518c52e",
       "version_major": 2,
       "version_minor": 0
      },
      "text/plain": [
       "Processing:   0%|          | 0/4 [00:00<?, ?it/s]"
      ]
     },
     "metadata": {},
     "output_type": "display_data"
    }
   ],
   "source": [
    "# train catboost\n",
    "trained_model_catboost = exp.create_model(\n",
    "    estimator='catboost',\n",
    "    iterations=1000,\n",
    "    learning_rate=0.01,\n",
    "    fold=5\n",
    ")"
   ]
  },
  {
   "cell_type": "code",
   "execution_count": 20,
   "id": "c4636c1d-0f20-4b67-bce1-8ae336fd42db",
   "metadata": {
    "pycharm": {
     "name": "#%%\n"
    }
   },
   "outputs": [
    {
     "data": {
      "text/html": [
       "<style type=\"text/css\">\n",
       "</style>\n",
       "<table id=\"T_69a93\">\n",
       "  <thead>\n",
       "    <tr>\n",
       "      <th class=\"blank level0\" >&nbsp;</th>\n",
       "      <th id=\"T_69a93_level0_col0\" class=\"col_heading level0 col0\" >Model</th>\n",
       "      <th id=\"T_69a93_level0_col1\" class=\"col_heading level0 col1\" >Accuracy</th>\n",
       "      <th id=\"T_69a93_level0_col2\" class=\"col_heading level0 col2\" >AUC</th>\n",
       "      <th id=\"T_69a93_level0_col3\" class=\"col_heading level0 col3\" >Recall</th>\n",
       "      <th id=\"T_69a93_level0_col4\" class=\"col_heading level0 col4\" >Prec.</th>\n",
       "      <th id=\"T_69a93_level0_col5\" class=\"col_heading level0 col5\" >F1</th>\n",
       "      <th id=\"T_69a93_level0_col6\" class=\"col_heading level0 col6\" >Kappa</th>\n",
       "      <th id=\"T_69a93_level0_col7\" class=\"col_heading level0 col7\" >MCC</th>\n",
       "    </tr>\n",
       "  </thead>\n",
       "  <tbody>\n",
       "    <tr>\n",
       "      <th id=\"T_69a93_level0_row0\" class=\"row_heading level0 row0\" >0</th>\n",
       "      <td id=\"T_69a93_row0_col0\" class=\"data row0 col0\" >CatBoost Classifier</td>\n",
       "      <td id=\"T_69a93_row0_col1\" class=\"data row0 col1\" >0.8030</td>\n",
       "      <td id=\"T_69a93_row0_col2\" class=\"data row0 col2\" >0.7919</td>\n",
       "      <td id=\"T_69a93_row0_col3\" class=\"data row0 col3\" >0.1682</td>\n",
       "      <td id=\"T_69a93_row0_col4\" class=\"data row0 col4\" >0.5455</td>\n",
       "      <td id=\"T_69a93_row0_col5\" class=\"data row0 col5\" >0.2571</td>\n",
       "      <td id=\"T_69a93_row0_col6\" class=\"data row0 col6\" >0.1787</td>\n",
       "      <td id=\"T_69a93_row0_col7\" class=\"data row0 col7\" >0.2202</td>\n",
       "    </tr>\n",
       "  </tbody>\n",
       "</table>\n"
      ],
      "text/plain": [
       "<pandas.io.formats.style.Styler at 0x1d2d87c8b20>"
      ]
     },
     "metadata": {},
     "output_type": "display_data"
    },
    {
     "name": "stdout",
     "output_type": "stream",
     "text": [
      "{'0': {'precision': 0.8920308483290489,\n",
      "       'recall': 0.8242280285035629,\n",
      "       'f1-score': 0.8567901234567903,\n",
      "       'support': 421},\n",
      " '1': {'precision': 0.4676258992805755,\n",
      "       'recall': 0.6074766355140186,\n",
      "       'f1-score': 0.5284552845528455,\n",
      "       'support': 107},\n",
      " 'accuracy': 0.7803030303030303,\n",
      " 'macro avg': {'precision': 0.6798283738048122,\n",
      "               'recall': 0.7158523320087908,\n",
      "               'f1-score': 0.6926227040048178,\n",
      "               'support': 528},\n",
      " 'weighted avg': {'precision': 0.8060245423665742,\n",
      "                  'recall': 0.7803030303030303,\n",
      "                  'f1-score': 0.7902525708758772,\n",
      "                  'support': 528},\n",
      " 'threshold': 0.25,\n",
      " 'TN': 347,\n",
      " 'FP': 74,\n",
      " 'FN': 42,\n",
      " 'TP': 65,\n",
      " 'AUC': 0.7918,\n",
      " 'model NPL': 10.8,\n",
      " ' real NPL': 20.27,\n",
      " 'approval rate': 73.67,\n",
      " 'good correct': 82.42,\n",
      " 'bad correct': 60.75}\n"
     ]
    }
   ],
   "source": [
    "# GET PERFORMANCE METRICS:\n",
    "threshold = 0.25\n",
    "predictions = exp.predict_model(trained_model_catboost, raw_score=True, encoded_labels=True)\n",
    "predictions['prediction_label'] = (predictions['prediction_score_1'] > threshold).astype(int)\n",
    "# predictions.to_excel('predictions.xlsx', index=False)\n",
    "\n",
    "report         = classification_report(predictions[target], predictions['prediction_label'], output_dict=True)\n",
    "tn, fp, fn, tp = confusion_matrix(     predictions[target], predictions['prediction_label']).ravel()\n",
    "auc            = roc_auc_score(        predictions[target], predictions['prediction_score_1'])\n",
    "\n",
    "report['threshold'] = threshold\n",
    "report['TN'] = tn\n",
    "report['FP'] = fp\n",
    "report['FN'] = fn\n",
    "report['TP'] = tp\n",
    "report['AUC'] = round(auc, 4)\n",
    "report['model NPL'] = round(fn/(tn+fn)*100, 2)\n",
    "report[' real NPL'] = round(report['1']['support']/(report['1']['support'] + report['0']['support']) * 100, 2)\n",
    "report['approval rate'] = round((fn + tn)/report['weighted avg']['support']*100, 2)\n",
    "report['good correct'] = round(tn/(fp+tn)*100, 2)\n",
    "report['bad correct'] = round(tp/(fn+tp)*100, 2)\n",
    "\n",
    "pprint(report, sort_dicts=False)"
   ]
  },
  {
   "cell_type": "code",
   "execution_count": 22,
   "id": "3ffadffc-d1d3-4cf7-9f0a-f501d649b219",
   "metadata": {
    "pycharm": {
     "name": "#%%\n"
    }
   },
   "outputs": [
    {
     "data": {
      "image/png": "[encoded data removed]",
      "text/plain": [
       "<Figure size 800x950 with 2 Axes>"
      ]
     },
     "metadata": {},
     "output_type": "display_data"
    }
   ],
   "source": [
    "exp.interpret_model(trained_model_catboost)"
   ]
  },
  {
   "cell_type": "code",
   "execution_count": null,
   "id": "2b53cf19-5537-4a75-920e-24fcb86cb643",
   "metadata": {},
   "outputs": [],
   "source": []
  }
 ],
 "metadata": {
  "kernelspec": {
   "display_name": "Python 3 (ipykernel)",
   "language": "python",
   "name": "python3"
  },
  "language_info": {
   "codemirror_mode": {
    "name": "ipython",
    "version": 3
   },
   "file_extension": ".py",
   "mimetype": "text/x-python",
   "name": "python",
   "nbconvert_exporter": "python",
   "pygments_lexer": "ipython3",
   "version": "3.8.17"
  }
 },
 "nbformat": 4,
 "nbformat_minor": 5
}
