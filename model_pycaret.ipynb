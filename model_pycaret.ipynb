{
 "cells": [
  {
   "cell_type": "code",
   "execution_count": 1,
   "id": "0e4a4c19-1a69-4c4c-9afa-523a6498780c",
   "metadata": {
    "pycharm": {
     "name": "#%%\n"
    }
   },
   "outputs": [],
   "source": [
    "import pandas as pd\n",
    "import numpy as np\n",
    "from pycaret.classification import *\n",
    "from sklearn.metrics import classification_report, confusion_matrix, roc_auc_score, accuracy_score\n",
    "from pprint import pprint"
   ]
  },
  {
   "cell_type": "code",
   "execution_count": 2,
   "id": "0436cb91-85be-485d-b544-5db8c56d1adf",
   "metadata": {
    "pycharm": {
     "name": "#%%\n"
    }
   },
   "outputs": [],
   "source": [
    "data = pd.read_excel('data/data.xlsx')"
   ]
  },
  {
   "cell_type": "markdown",
   "id": "6160deca-4ba6-4e25-bc89-77ec4245f31c",
   "metadata": {
    "pycharm": {
     "name": "#%% md\n"
    }
   },
   "source": [
    "## Data cleaning and feature selection"
   ]
  },
  {
   "cell_type": "code",
   "execution_count": 3,
   "id": "057c41db-f41e-407e-a720-bcf5e95509d0",
   "metadata": {
    "pycharm": {
     "name": "#%%\n"
    }
   },
   "outputs": [],
   "source": [
    "# Adding monthly Macro-variables #\n",
    "macro = pd.read_excel('data/UAE_Monthly1.xlsx')\n",
    "macro['DateTime'] = macro['DateTime'].astype('datetime64')\n",
    "\n",
    "data['inflation_rate'] = np.zeros(len(data))\n",
    "data['manufacturing_PMI'] = np.zeros(len(data))\n",
    "\n",
    "for i in data.index:\n",
    "    for j in macro.index:\n",
    "        if data.loc[i, 'date_of_disbursement'].year == macro.loc[j, 'DateTime'].year and data.loc[i, 'date_of_disbursement'].month == macro.loc[j, 'DateTime'].month:\n",
    "            data.at[i, 'inflation_rate']    = macro.loc[j, 'Inflation Rate']\n",
    "            data.at[i, 'manufacturing_PMI'] = macro.loc[j, 'Manufacturing PMI']\n",
    "            break"
   ]
  },
  {
   "cell_type": "code",
   "execution_count": 4,
   "id": "62e8d17b-0139-4c88-9473-6e1e1abc245a",
   "metadata": {
    "pycharm": {
     "name": "#%%\n"
    }
   },
   "outputs": [],
   "source": [
    "# Adding quarterly Macro-variables #\n",
    "macro2 = pd.read_excel('data/UAE_quarter1.xlsx')\n",
    "macro2['DateTime'] = macro2['DateTime'].astype('datetime64')\n",
    "\n",
    "data['CPI'] = [ np.nan for i in data.index]\n",
    "\n",
    "for i in data.index:\n",
    "    for j in macro2.index:\n",
    "        if data.loc[i, 'date_of_disbursement'].year == macro2.loc[j, 'DateTime'].year and data.loc[i, 'date_of_disbursement'].month == macro2.loc[j, 'DateTime'].month:\n",
    "            data.at[i, 'CPI'] = macro2.loc[j, 'Consumer Price Index CPI']\n",
    "            break"
   ]
  },
  {
   "cell_type": "code",
   "execution_count": 5,
   "id": "5cd569ac-2e6c-403f-874c-889fd910b0ba",
   "metadata": {
    "pycharm": {
     "name": "#%%\n"
    }
   },
   "outputs": [],
   "source": [
    "data_macro = data.copy()"
   ]
  },
  {
   "cell_type": "markdown",
   "id": "c7ff0b1c-9c79-44d3-85ac-5a2bbbf9ea03",
   "metadata": {
    "pycharm": {
     "name": "#%% md\n"
    }
   },
   "source": [
    "---"
   ]
  },
  {
   "cell_type": "code",
   "execution_count": 6,
   "id": "ce45b0ce-4674-464b-b3c9-025385921d80",
   "metadata": {
    "pycharm": {
     "name": "#%%\n"
    }
   },
   "outputs": [
    {
     "name": "stdout",
     "output_type": "stream",
     "text": [
      "0    2646\n",
      "1     543\n",
      "Name: cmltv_90_bad, dtype: int64\n"
     ]
    }
   ],
   "source": [
    "# Creating a target columns #\n",
    "data_macro['max_90_bad'] = (data_macro['max_dpd_3_year'] >= 90).astype(int)\n",
    "data_macro['cmltv_90_bad'] = (data_macro['cumulative_days_of_late_payments_throughout_loan_repayments'] >= 90).astype(int)\n",
    "\n",
    "print(data_macro['cmltv_90_bad'].value_counts())"
   ]
  },
  {
   "cell_type": "code",
   "execution_count": 7,
   "id": "7f0b62a4-deea-436f-8042-2f7a9d0c359b",
   "metadata": {
    "pycharm": {
     "name": "#%%\n"
    },
    "tags": []
   },
   "outputs": [],
   "source": [
    "target = 'cmltv_90_bad'\n",
    "\n",
    "cat_feats = [\n",
    "    'location',\n",
    "    'emirates',\n",
    "    'gender',\n",
    "    'family_status',\n",
    "    'employment_sphere',\n",
    "    'collateral'\n",
    "]\n",
    "num_feats = [\n",
    "    'loan_amount',\n",
    "    'duration_at_disbursement_months',\n",
    "    'interest_rate',\n",
    "    'quantity_of_prior_loans_at_the_time_of_disbursement_at_cbi',\n",
    "    'age',\n",
    "    'monthly_income_aed',\n",
    "    'work_experience',\n",
    "    'inflation_rate',\n",
    "    'manufacturing_PMI',\n",
    "    'presence_of_car',\n",
    "    'presence_of_housing',\n",
    "    'CPI'\n",
    "]\n",
    "\n",
    "ignore_feats = [\n",
    "    'type_of_product',\n",
    "    'employment_level',\n",
    "    'client_id',\n",
    "    'loan_currency',\n",
    "    'date_of_disbursement',\n",
    "    'date_of_closure_based_on_contract',\n",
    "    'max_dpd_3_year',\n",
    "    'cumulative_days_of_late_payments_throughout_loan_repayments',\n",
    "    'status_of_loan',\n",
    "    'quantity_of_prior_loans_at_cbi',\n",
    "    'coborrower',\n",
    "    'top_up',\n",
    "    'dsr',\n",
    "    'max_90_bad'\n",
    "]"
   ]
  },
  {
   "cell_type": "code",
   "execution_count": 8,
   "id": "18f227e3-2814-4afd-9115-148a572b14c6",
   "metadata": {
    "pycharm": {
     "name": "#%%\n"
    }
   },
   "outputs": [
    {
     "data": {
      "text/plain": [
       "client_id                                                        0\n",
       "loan_currency                                                    0\n",
       "loan_amount                                                      0\n",
       "date_of_disbursement                                             0\n",
       "date_of_closure_based_on_contract                                0\n",
       "duration_at_disbursement_months                                  0\n",
       "interest_rate                                                    0\n",
       "max_dpd_3_year                                                   0\n",
       "cumulative_days_of_late_payments_throughout_loan_repayments      0\n",
       "quantity_of_prior_loans_at_the_time_of_disbursement_at_cbi       0\n",
       "type_of_product                                                  0\n",
       "status_of_loan                                                   0\n",
       "location                                                         0\n",
       "emirates                                                         0\n",
       "gender                                                           0\n",
       "age                                                              0\n",
       "family_status                                                    0\n",
       "monthly_income_aed                                               0\n",
       "quantity_of_prior_loans_at_cbi                                   0\n",
       "employment_sphere                                                0\n",
       "employment_level                                                 0\n",
       "work_experience                                                  4\n",
       "presence_of_car                                                  0\n",
       "presence_of_housing                                              0\n",
       "coborrower                                                       0\n",
       "collateral                                                       0\n",
       "top_up                                                           0\n",
       "dsr                                                             97\n",
       "inflation_rate                                                 168\n",
       "manufacturing_PMI                                                0\n",
       "CPI                                                            239\n",
       "max_90_bad                                                       0\n",
       "cmltv_90_bad                                                     0\n",
       "dtype: int64"
      ]
     },
     "execution_count": 8,
     "metadata": {},
     "output_type": "execute_result"
    }
   ],
   "source": [
    "data_macro.isna().sum()"
   ]
  },
  {
   "cell_type": "code",
   "execution_count": 9,
   "id": "fc24dd59-a6e2-40b4-bf6e-d6ac3d68167b",
   "metadata": {
    "pycharm": {
     "name": "#%%\n"
    },
    "tags": []
   },
   "outputs": [],
   "source": [
    "def isnan(num):\n",
    "    return num != num\n",
    "\n",
    "# Converting Work experience feature to the months #\n",
    "for i in data_macro.index:\n",
    "    it = data_macro.loc[i, 'work_experience']\n",
    "    years, months, gap, minus = 0, 0, False, False\n",
    "\n",
    "    if isnan(it):\n",
    "        continue\n",
    "    \n",
    "    # Extracting year and month from the string #\n",
    "    for j in it :\n",
    "        if j >= '0' and j <= '9' :\n",
    "            if not gap :\n",
    "                years = years*10 + int(j)\n",
    "            else :\n",
    "                months = months*10 + int(j)\n",
    "        elif j == '-' :\n",
    "            minus = True\n",
    "            gap = True\n",
    "        else :\n",
    "            gap = True\n",
    "    # Setting the new value to the DataFrame #\n",
    "    if minus :\n",
    "        months *= -1\n",
    "        \n",
    "    data_macro.at[i, 'work_experience'] = int(years*12 + months)\n",
    "    \n",
    "data_macro['work_experience'] = data_macro['work_experience'].astype('float32')"
   ]
  },
  {
   "cell_type": "code",
   "execution_count": 10,
   "id": "547fd862-7be0-4cd1-a24c-70469d7167dc",
   "metadata": {
    "pycharm": {
     "name": "#%%\n"
    }
   },
   "outputs": [
    {
     "data": {
      "text/html": [
       "<div>\n",
       "<style scoped>\n",
       "    .dataframe tbody tr th:only-of-type {\n",
       "        vertical-align: middle;\n",
       "    }\n",
       "\n",
       "    .dataframe tbody tr th {\n",
       "        vertical-align: top;\n",
       "    }\n",
       "\n",
       "    .dataframe thead th {\n",
       "        text-align: right;\n",
       "    }\n",
       "</style>\n",
       "<table border=\"1\" class=\"dataframe\">\n",
       "  <thead>\n",
       "    <tr style=\"text-align: right;\">\n",
       "      <th></th>\n",
       "      <th>loan_currency</th>\n",
       "      <th>interest_rate</th>\n",
       "      <th>work_experience</th>\n",
       "    </tr>\n",
       "  </thead>\n",
       "  <tbody>\n",
       "    <tr>\n",
       "      <th>85</th>\n",
       "      <td>AED</td>\n",
       "      <td>0.068444</td>\n",
       "      <td>NaN</td>\n",
       "    </tr>\n",
       "    <tr>\n",
       "      <th>143</th>\n",
       "      <td>AED</td>\n",
       "      <td>0.080508</td>\n",
       "      <td>NaN</td>\n",
       "    </tr>\n",
       "    <tr>\n",
       "      <th>2097</th>\n",
       "      <td>AED</td>\n",
       "      <td>0.045000</td>\n",
       "      <td>NaN</td>\n",
       "    </tr>\n",
       "    <tr>\n",
       "      <th>2536</th>\n",
       "      <td>AED</td>\n",
       "      <td>0.120000</td>\n",
       "      <td>NaN</td>\n",
       "    </tr>\n",
       "  </tbody>\n",
       "</table>\n",
       "</div>"
      ],
      "text/plain": [
       "     loan_currency  interest_rate  work_experience\n",
       "85             AED       0.068444              NaN\n",
       "143            AED       0.080508              NaN\n",
       "2097           AED       0.045000              NaN\n",
       "2536           AED       0.120000              NaN"
      ]
     },
     "execution_count": 10,
     "metadata": {},
     "output_type": "execute_result"
    }
   ],
   "source": [
    "data_macro[data_macro['work_experience'].isna()][['loan_currency', 'interest_rate', 'work_experience']]"
   ]
  },
  {
   "cell_type": "code",
   "execution_count": 11,
   "id": "d37f9b05-64be-4c4c-a54d-4bc568966058",
   "metadata": {
    "pycharm": {
     "name": "#%%\n"
    }
   },
   "outputs": [],
   "source": [
    "data_na = data_macro.dropna(subset=cat_feats+num_feats)"
   ]
  },
  {
   "cell_type": "markdown",
   "id": "7a689e40-10dc-4f18-80a8-a57c1f17f8b2",
   "metadata": {
    "pycharm": {
     "name": "#%% md\n"
    }
   },
   "source": [
    "---"
   ]
  },
  {
   "cell_type": "code",
   "execution_count": 10,
   "id": "819a2859-dd86-4de5-b67f-d753a7735e62",
   "metadata": {
    "pycharm": {
     "name": "#%%\n"
    }
   },
   "outputs": [],
   "source": [
    "data_na['presence_of_car_binary'] = data_na['presence_of_car'].copy()\n",
    "data_na['presence_of_car_binary'].replace({2: 1, 3: 1, 4: 1, 5: 1, 6: 1}, inplace=True)"
   ]
  },
  {
   "cell_type": "code",
   "execution_count": 143,
   "id": "31b9d738-5540-44ee-bfbd-156649fdb28d",
   "metadata": {
    "pycharm": {
     "name": "#%%\n"
    }
   },
   "outputs": [],
   "source": [
    "data_na['presence_of_housing_binary'] = data_na['presence_of_housing'].copy()\n",
    "data_na['presence_of_housing'].replace({2: 1, 3: 1, 4: 1, 5: 1, 6: 1}, inplace=True)"
   ]
  },
  {
   "cell_type": "code",
   "execution_count": 179,
   "id": "721d4352-fe64-45f9-bb0a-82c548a860f6",
   "metadata": {
    "pycharm": {
     "name": "#%%\n"
    }
   },
   "outputs": [],
   "source": [
    "ignore_feats.extend(['presence_of_housing_binary', 'presence_of_car_binary'])"
   ]
  },
  {
   "cell_type": "markdown",
   "id": "b3ace64b-df26-40d0-885b-cca525793232",
   "metadata": {
    "pycharm": {
     "name": "#%% md\n"
    }
   },
   "source": [
    "---"
   ]
  },
  {
   "cell_type": "code",
   "execution_count": 12,
   "id": "af9714b4-5e69-4f88-b007-50f9d8756ecf",
   "metadata": {
    "pycharm": {
     "name": "#%%\n"
    }
   },
   "outputs": [],
   "source": [
    "stats = data_na[target].groupby(data_na['type_of_product']).agg(['count', 'mean'])"
   ]
  },
  {
   "cell_type": "code",
   "execution_count": 13,
   "id": "516fcd7c",
   "metadata": {},
   "outputs": [
    {
     "data": {
      "text/html": [
       "<div>\n",
       "<style scoped>\n",
       "    .dataframe tbody tr th:only-of-type {\n",
       "        vertical-align: middle;\n",
       "    }\n",
       "\n",
       "    .dataframe tbody tr th {\n",
       "        vertical-align: top;\n",
       "    }\n",
       "\n",
       "    .dataframe thead th {\n",
       "        text-align: right;\n",
       "    }\n",
       "</style>\n",
       "<table border=\"1\" class=\"dataframe\">\n",
       "  <thead>\n",
       "    <tr style=\"text-align: right;\">\n",
       "      <th></th>\n",
       "      <th>count</th>\n",
       "      <th>mean</th>\n",
       "    </tr>\n",
       "    <tr>\n",
       "      <th>type_of_product</th>\n",
       "      <th></th>\n",
       "      <th></th>\n",
       "    </tr>\n",
       "  </thead>\n",
       "  <tbody>\n",
       "    <tr>\n",
       "      <th>CAR LOAN</th>\n",
       "      <td>48</td>\n",
       "      <td>0.083333</td>\n",
       "    </tr>\n",
       "    <tr>\n",
       "      <th>HOUSING LOAN</th>\n",
       "      <td>218</td>\n",
       "      <td>0.041284</td>\n",
       "    </tr>\n",
       "    <tr>\n",
       "      <th>PERSONAL LOAN</th>\n",
       "      <td>2680</td>\n",
       "      <td>0.197388</td>\n",
       "    </tr>\n",
       "  </tbody>\n",
       "</table>\n",
       "</div>"
      ],
      "text/plain": [
       "                 count      mean\n",
       "type_of_product                 \n",
       "CAR LOAN            48  0.083333\n",
       "HOUSING LOAN       218  0.041284\n",
       "PERSONAL LOAN     2680  0.197388"
      ]
     },
     "execution_count": 13,
     "metadata": {},
     "output_type": "execute_result"
    }
   ],
   "source": [
    "stats"
   ]
  },
  {
   "cell_type": "code",
   "execution_count": 16,
   "id": "721d9aaf-5b26-4d1b-a05b-0fa1b7dfcb2c",
   "metadata": {
    "pycharm": {
     "name": "#%%\n"
    }
   },
   "outputs": [],
   "source": [
    "stats_empl = data_na[target].groupby(data_na['employment_level']).agg(['count', 'mean'])"
   ]
  },
  {
   "cell_type": "code",
   "execution_count": 17,
   "id": "bcc5a05b-8bd0-4656-9f5b-fdbf3debc7eb",
   "metadata": {
    "pycharm": {
     "name": "#%%\n"
    }
   },
   "outputs": [],
   "source": [
    "stats_empl.reset_index(inplace=True)"
   ]
  },
  {
   "cell_type": "code",
   "execution_count": 18,
   "id": "4eb5dbe0-edf3-40eb-b7d0-3cce861e05f6",
   "metadata": {
    "pycharm": {
     "name": "#%%\n"
    }
   },
   "outputs": [],
   "source": [
    "data_na['type_of_product_mean_encoded'] = data_na['type_of_product']"
   ]
  },
  {
   "cell_type": "code",
   "execution_count": 19,
   "id": "9bdbdcbf-2d35-4f91-9195-14d923b6c534",
   "metadata": {
    "pycharm": {
     "name": "#%%\n"
    }
   },
   "outputs": [],
   "source": [
    "data_na['type_of_product_mean_encoded'].replace(\n",
    "    {\n",
    "        'CAR LOAN': stats.loc['CAR LOAN', 'mean'], \n",
    "        'HOUSING LOAN': stats.loc['HOUSING LOAN', 'mean'], \n",
    "        'PERSONAL LOAN': stats.loc['PERSONAL LOAN', 'mean'], \n",
    "    }, \n",
    "    inplace=True\n",
    ")"
   ]
  },
  {
   "cell_type": "code",
   "execution_count": 20,
   "id": "a4e905a4-15c3-40a3-9ffe-f0ea39cebf0c",
   "metadata": {
    "pycharm": {
     "name": "#%%\n"
    }
   },
   "outputs": [],
   "source": [
    "data_na['employment_level_mean_encoded'] = data_na['employment_level']"
   ]
  },
  {
   "cell_type": "code",
   "execution_count": 21,
   "id": "74d6d78e-daff-4abd-9c2e-7fbf008b7c28",
   "metadata": {
    "pycharm": {
     "name": "#%%\n"
    }
   },
   "outputs": [],
   "source": [
    "for index, row in stats_empl.iterrows():\n",
    "    data_na.loc[data_na['employment_level'] == row['employment_level'], 'employment_level_mean_encoded'] = row['mean']"
   ]
  },
  {
   "cell_type": "code",
   "execution_count": 22,
   "id": "2ee5c2cf-49f0-4345-9cfa-0f9ae1d75502",
   "metadata": {
    "pycharm": {
     "name": "#%%\n"
    }
   },
   "outputs": [],
   "source": [
    "# Add new derived features to the feature list\n",
    "num_feats.extend(['type_of_product_mean_encoded', 'employment_level_mean_encoded'])"
   ]
  },
  {
   "cell_type": "markdown",
   "id": "e7569763-38d1-479d-bba2-5c1e889adf7f",
   "metadata": {
    "pycharm": {
     "name": "#%% md\n"
    }
   },
   "source": [
    "---"
   ]
  },
  {
   "cell_type": "code",
   "execution_count": 23,
   "id": "0f45ea35-599d-4b2c-9388-9bdb6a331473",
   "metadata": {
    "pycharm": {
     "name": "#%%\n"
    },
    "tags": []
   },
   "outputs": [],
   "source": [
    "# Choosing only Closed loans & Active loans that are already bad #\n",
    "data_closed_or_bad = data_na[(data_na['status_of_loan'] == 'Active') & (data_na[target] == 1) | (data_na['status_of_loan'] != 'Active')]"
   ]
  },
  {
   "cell_type": "code",
   "execution_count": 24,
   "id": "42e7e452-9a39-468c-860d-d91ca9d32726",
   "metadata": {
    "pycharm": {
     "name": "#%%\n"
    }
   },
   "outputs": [
    {
     "name": "stdout",
     "output_type": "stream",
     "text": [
      "All variables are found in feature lists\n"
     ]
    }
   ],
   "source": [
    "# CHECK IF ALL COLUMNS ARE USED OR IF THERE IS AN EXTRA COLUMN\n",
    "all_columns = cat_feats + num_feats + ignore_feats\n",
    "dataset_columns = list(data_closed_or_bad.columns)\n",
    "dataset_columns.remove(target)\n",
    "\n",
    "if sorted(all_columns) == sorted(dataset_columns) :\n",
    "    print( 'All variables are found in feature lists' )\n",
    "else :\n",
    "    print('Features found in dataset but not in lists :')\n",
    "    for i in dataset_columns :\n",
    "        if i not in all_columns :\n",
    "            print(i)\n",
    "    \n",
    "    print('-'*50)\n",
    "    print('Features found in lists but not in dataset')\n",
    "    for i in all_columns :\n",
    "        if i not in dataset_columns :\n",
    "            print(i)"
   ]
  },
  {
   "cell_type": "code",
   "execution_count": 25,
   "id": "31684dce-9db6-42fb-a382-a83bf19e9ddf",
   "metadata": {
    "pycharm": {
     "name": "#%%\n"
    }
   },
   "outputs": [
    {
     "data": {
      "text/plain": [
       "True"
      ]
     },
     "execution_count": 25,
     "metadata": {},
     "output_type": "execute_result"
    }
   ],
   "source": [
    "# CHECK IF ALL COLUMNS ARE USED OR IF THERE IS AN EXTRA COLUMN\n",
    "all_columns = cat_feats + num_feats + ignore_feats\n",
    "dataset_columns = list(data_closed_or_bad.columns)\n",
    "dataset_columns.remove(target)\n",
    "sorted(all_columns) == sorted(dataset_columns)"
   ]
  },
  {
   "cell_type": "markdown",
   "id": "3560605a-c2f8-4720-9592-e54fd6e94956",
   "metadata": {
    "pycharm": {
     "name": "#%% md\n"
    }
   },
   "source": [
    "# Modeling\n",
    "---"
   ]
  },
  {
   "cell_type": "code",
   "execution_count": 26,
   "id": "c199c4fb-34d7-4136-ab7f-3729235de797",
   "metadata": {
    "pycharm": {
     "name": "#%%\n"
    }
   },
   "outputs": [],
   "source": [
    "from sklearn.model_selection import train_test_split\n",
    "train, test = train_test_split(data_closed_or_bad, train_size=0.8, random_state=89, stratify=data_closed_or_bad[target])"
   ]
  },
  {
   "cell_type": "code",
   "execution_count": 30,
   "id": "562fbf30-b75b-49cf-91a8-3d9a3edfddb7",
   "metadata": {
    "pycharm": {
     "name": "#%%\n"
    },
    "tags": []
   },
   "outputs": [
    {
     "name": "stdout",
     "output_type": "stream",
     "text": [
      "                    Description             Value\n",
      "0                    Session id                19\n",
      "1                        Target      cmltv_90_bad\n",
      "2                   Target type            Binary\n",
      "3           Original data shape        (2691, 35)\n",
      "4        Transformed data shape        (2691, 35)\n",
      "5   Transformed train set shape        (2152, 35)\n",
      "6    Transformed test set shape         (539, 35)\n",
      "7               Ignore features                14\n",
      "8              Ordinal features                 2\n",
      "9              Numeric features                14\n",
      "10         Categorical features                 6\n",
      "11     Rows with missing values              1.7%\n",
      "12                   Preprocess              True\n",
      "13              Imputation type            simple\n",
      "14           Numeric imputation              mean\n",
      "15       Categorical imputation              mode\n",
      "16     Maximum one-hot encoding                25\n",
      "17              Encoding method              None\n",
      "18     Remove multicollinearity              True\n",
      "19  Multicollinearity threshold              0.85\n",
      "20               Fold Generator   StratifiedKFold\n",
      "21                  Fold Number                10\n",
      "22                     CPU Jobs                -1\n",
      "23                      Use GPU             False\n",
      "24               Log Experiment             False\n",
      "25              Experiment Name  clf-default-name\n",
      "26                          USI              a7d5\n"
     ]
    },
    {
     "data": {
      "text/plain": [
       "<pycaret.classification.oop.ClassificationExperiment at 0x21f29d93a30>"
      ]
     },
     "execution_count": 30,
     "metadata": {},
     "output_type": "execute_result"
    }
   ],
   "source": [
    "exp = ClassificationExperiment()\n",
    "exp.setup(\n",
    "    data=train,\n",
    "    test_data=test,\n",
    "    target=target,\n",
    "    index=False,\n",
    "    fold_shuffle=True,\n",
    "    \n",
    "    # categorical_imputation='mode',\n",
    "    # numeric_imputation='mean',\n",
    "    \n",
    "    categorical_features=cat_feats,\n",
    "    numeric_features=num_feats,\n",
    "    ignore_features=ignore_feats,\n",
    "    ordinal_features={},\n",
    "    \n",
    "    remove_multicollinearity=True,\n",
    "    multicollinearity_threshold=0.85,\n",
    "    \n",
    "    use_gpu=False,\n",
    "    memory=False,\n",
    "    \n",
    "    session_id=19,\n",
    "    html=False\n",
    ")"
   ]
  },
  {
   "cell_type": "code",
   "execution_count": 28,
   "id": "50a1bcc6-dd6f-4939-9f43-d049b748b1ff",
   "metadata": {
    "pycharm": {
     "name": "#%%\n"
    }
   },
   "outputs": [
    {
     "name": "stderr",
     "output_type": "stream",
     "text": [
      "                                                         "
     ]
    },
    {
     "name": "stdout",
     "output_type": "stream",
     "text": [
      "      Accuracy     AUC  Recall   Prec.      F1   Kappa     MCC\n",
      "Fold                                                          \n",
      "0       0.8051  0.8204  0.2299  0.5405  0.3226  0.2298  0.2586\n",
      "1       0.8376  0.8154  0.2989  0.7429  0.4262  0.3511  0.4007\n",
      "2       0.8186  0.7593  0.2442  0.6176  0.3500  0.2669  0.3059\n",
      "3       0.8395  0.8457  0.3256  0.7179  0.4480  0.3693  0.4090\n",
      "4       0.8302  0.7991  0.2989  0.6842  0.4160  0.3341  0.3735\n",
      "Mean    0.8262  0.8080  0.2795  0.6606  0.3926  0.3102  0.3495\n",
      "Std     0.0129  0.0286  0.0363  0.0733  0.0479  0.0530  0.0581\n"
     ]
    },
    {
     "name": "stderr",
     "output_type": "stream",
     "text": [
      "\r"
     ]
    }
   ],
   "source": [
    "# train catboost\n",
    "trained_model_catboost = exp.create_model(\n",
    "    estimator='catboost',\n",
    "    iterations=1000,\n",
    "    learning_rate=0.01,\n",
    "    fold=5\n",
    ")"
   ]
  },
  {
   "cell_type": "code",
   "execution_count": 33,
   "id": "c4636c1d-0f20-4b67-bce1-8ae336fd42db",
   "metadata": {
    "pycharm": {
     "name": "#%%\n"
    }
   },
   "outputs": [
    {
     "name": "stdout",
     "output_type": "stream",
     "text": [
      "                 Model  Accuracy     AUC  Recall   Prec.      F1   Kappa  \\\n",
      "0  CatBoost Classifier    0.8256  0.8007  0.2477  0.6923  0.3649  0.2891   \n",
      "\n",
      "      MCC  \n",
      "0  0.3408  \n",
      "{'0': {'precision': 0.8705882352941177,\n",
      "       'recall': 0.8604651162790697,\n",
      "       'f1-score': 0.8654970760233918,\n",
      "       'support': 430},\n",
      " '1': {'precision': 0.47368421052631576,\n",
      "       'recall': 0.4954128440366973,\n",
      "       'f1-score': 0.48430493273542596,\n",
      "       'support': 109},\n",
      " 'accuracy': 0.7866419294990723,\n",
      " 'macro avg': {'precision': 0.6721362229102167,\n",
      "               'recall': 0.6779389801578835,\n",
      "               'f1-score': 0.6749010043794088,\n",
      "               'support': 539},\n",
      " 'weighted avg': {'precision': 0.790323785016399,\n",
      "                  'recall': 0.7866419294990723,\n",
      "                  'f1-score': 0.7884099821117253,\n",
      "                  'support': 539},\n",
      " 'threshold': 0.25,\n",
      " 'TN': 370,\n",
      " 'FP': 60,\n",
      " 'FN': 55,\n",
      " 'TP': 54,\n",
      " 'AUC': 0.8007,\n",
      " 'model NPL': 12.94,\n",
      " ' real NPL': 20.22,\n",
      " 'approval rate': 78.85,\n",
      " 'good correct': 86.05,\n",
      " 'bad correct': 49.54}\n"
     ]
    }
   ],
   "source": [
    "# GET PERFORMANCE METRICS:\n",
    "threshold = 0.25\n",
    "predictions = exp.predict_model(trained_model_catboost, raw_score=True, encoded_labels=True)\n",
    "predictions['prediction_label'] = (predictions['prediction_score_1'] > threshold).astype(int)\n",
    "# predictions.to_excel('predictions.xlsx', index=False)\n",
    "\n",
    "report         = classification_report(predictions[target], predictions['prediction_label'], output_dict=True)\n",
    "tn, fp, fn, tp = confusion_matrix(     predictions[target], predictions['prediction_label']).ravel()\n",
    "auc            = roc_auc_score(        predictions[target], predictions['prediction_score_1'])\n",
    "\n",
    "report['threshold'] = threshold\n",
    "report['TN'] = tn\n",
    "report['FP'] = fp\n",
    "report['FN'] = fn\n",
    "report['TP'] = tp\n",
    "report['AUC'] = round(auc, 4)\n",
    "report['model NPL'] = round(fn/(tn+fn)*100, 2)\n",
    "report[' real NPL'] = round(report['1']['support']/(report['1']['support'] + report['0']['support']) * 100, 2)\n",
    "report['approval rate'] = round((fn + tn)/report['weighted avg']['support']*100, 2)\n",
    "report['good correct'] = round(tn/(fp+tn)*100, 2)\n",
    "report['bad correct'] = round(tp/(fn+tp)*100, 2)\n",
    "\n",
    "pprint(report, sort_dicts=False)"
   ]
  },
  {
   "cell_type": "code",
   "execution_count": 32,
   "id": "f83dab2b-6535-46cf-afa8-c3506166be27",
   "metadata": {
    "pycharm": {
     "name": "#%%\n"
    }
   },
   "outputs": [
    {
     "data": {
      "text/plain": [
       "['X_test',\n",
       " 'gpu_n_jobs_param',\n",
       " 'y_train_transformed',\n",
       " 'dataset',\n",
       " 'y_train',\n",
       " 'dataset_transformed',\n",
       " 'USI',\n",
       " 'X_test_transformed',\n",
       " 'test',\n",
       " 'idx',\n",
       " 'logging_param',\n",
       " 'y_test',\n",
       " 'y',\n",
       " 'fix_imbalance',\n",
       " 'fold_groups_param',\n",
       " 'seed',\n",
       " '_ml_usecase',\n",
       " 'data',\n",
       " 'fold_shuffle_param',\n",
       " 'pipeline',\n",
       " 'variable_and_property_keys',\n",
       " 'exp_name_log',\n",
       " 'y_test_transformed',\n",
       " 'html_param',\n",
       " 'memory',\n",
       " 'exp_id',\n",
       " 'X_train',\n",
       " 'log_plots_param',\n",
       " 'test_transformed',\n",
       " 'target_param',\n",
       " 'is_multiclass',\n",
       " 'y_transformed',\n",
       " '_available_plots',\n",
       " 'n_jobs_param',\n",
       " 'X_transformed',\n",
       " 'train_transformed',\n",
       " 'train',\n",
       " 'fold_generator',\n",
       " 'X_train_transformed',\n",
       " 'gpu_param',\n",
       " 'X']"
      ]
     },
     "execution_count": 32,
     "metadata": {},
     "output_type": "execute_result"
    }
   ],
   "source": [
    "list(exp.get_config('variables'))"
   ]
  },
  {
   "cell_type": "code",
   "execution_count": 65,
   "id": "efbadab0-de90-4ca2-a59d-b09fcea4fd4d",
   "metadata": {
    "pycharm": {
     "name": "#%%\n"
    }
   },
   "outputs": [
    {
     "data": {
      "text/html": [
       "<style type=\"text/css\">\n",
       "</style>\n",
       "<table id=\"T_8b6d7\">\n",
       "  <thead>\n",
       "    <tr>\n",
       "      <th class=\"blank level0\" >&nbsp;</th>\n",
       "      <th id=\"T_8b6d7_level0_col0\" class=\"col_heading level0 col0\" >Model</th>\n",
       "      <th id=\"T_8b6d7_level0_col1\" class=\"col_heading level0 col1\" >Accuracy</th>\n",
       "      <th id=\"T_8b6d7_level0_col2\" class=\"col_heading level0 col2\" >AUC</th>\n",
       "      <th id=\"T_8b6d7_level0_col3\" class=\"col_heading level0 col3\" >Recall</th>\n",
       "      <th id=\"T_8b6d7_level0_col4\" class=\"col_heading level0 col4\" >Prec.</th>\n",
       "      <th id=\"T_8b6d7_level0_col5\" class=\"col_heading level0 col5\" >F1</th>\n",
       "      <th id=\"T_8b6d7_level0_col6\" class=\"col_heading level0 col6\" >Kappa</th>\n",
       "      <th id=\"T_8b6d7_level0_col7\" class=\"col_heading level0 col7\" >MCC</th>\n",
       "    </tr>\n",
       "  </thead>\n",
       "  <tbody>\n",
       "    <tr>\n",
       "      <th id=\"T_8b6d7_level0_row0\" class=\"row_heading level0 row0\" >0</th>\n",
       "      <td id=\"T_8b6d7_row0_col0\" class=\"data row0 col0\" >CatBoost Classifier</td>\n",
       "      <td id=\"T_8b6d7_row0_col1\" class=\"data row0 col1\" >0.8256</td>\n",
       "      <td id=\"T_8b6d7_row0_col2\" class=\"data row0 col2\" >0.8007</td>\n",
       "      <td id=\"T_8b6d7_row0_col3\" class=\"data row0 col3\" >0.2477</td>\n",
       "      <td id=\"T_8b6d7_row0_col4\" class=\"data row0 col4\" >0.6923</td>\n",
       "      <td id=\"T_8b6d7_row0_col5\" class=\"data row0 col5\" >0.3649</td>\n",
       "      <td id=\"T_8b6d7_row0_col6\" class=\"data row0 col6\" >0.2891</td>\n",
       "      <td id=\"T_8b6d7_row0_col7\" class=\"data row0 col7\" >0.3408</td>\n",
       "    </tr>\n",
       "  </tbody>\n",
       "</table>\n"
      ],
      "text/plain": [
       "<pandas.io.formats.style.Styler at 0x1a670abbf10>"
      ]
     },
     "metadata": {},
     "output_type": "display_data"
    },
    {
     "data": {
      "text/html": [
       "<div>\n",
       "<style scoped>\n",
       "    .dataframe tbody tr th:only-of-type {\n",
       "        vertical-align: middle;\n",
       "    }\n",
       "\n",
       "    .dataframe tbody tr th {\n",
       "        vertical-align: top;\n",
       "    }\n",
       "\n",
       "    .dataframe thead th {\n",
       "        text-align: right;\n",
       "    }\n",
       "</style>\n",
       "<table border=\"1\" class=\"dataframe\">\n",
       "  <thead>\n",
       "    <tr style=\"text-align: right;\">\n",
       "      <th></th>\n",
       "      <th>threshold</th>\n",
       "      <th>Accuracy</th>\n",
       "      <th>AUC</th>\n",
       "      <th>TN</th>\n",
       "      <th>FP</th>\n",
       "      <th>FN</th>\n",
       "      <th>TP</th>\n",
       "    </tr>\n",
       "  </thead>\n",
       "  <tbody>\n",
       "    <tr>\n",
       "      <th>0</th>\n",
       "      <td>0.10</td>\n",
       "      <td>0.610390</td>\n",
       "      <td>0.800683</td>\n",
       "      <td>232.0</td>\n",
       "      <td>198.0</td>\n",
       "      <td>12.0</td>\n",
       "      <td>97.0</td>\n",
       "    </tr>\n",
       "    <tr>\n",
       "      <th>1</th>\n",
       "      <td>0.15</td>\n",
       "      <td>0.686456</td>\n",
       "      <td>0.800683</td>\n",
       "      <td>289.0</td>\n",
       "      <td>141.0</td>\n",
       "      <td>28.0</td>\n",
       "      <td>81.0</td>\n",
       "    </tr>\n",
       "    <tr>\n",
       "      <th>2</th>\n",
       "      <td>0.20</td>\n",
       "      <td>0.736549</td>\n",
       "      <td>0.800683</td>\n",
       "      <td>328.0</td>\n",
       "      <td>102.0</td>\n",
       "      <td>40.0</td>\n",
       "      <td>69.0</td>\n",
       "    </tr>\n",
       "    <tr>\n",
       "      <th>3</th>\n",
       "      <td>0.25</td>\n",
       "      <td>0.786642</td>\n",
       "      <td>0.800683</td>\n",
       "      <td>370.0</td>\n",
       "      <td>60.0</td>\n",
       "      <td>55.0</td>\n",
       "      <td>54.0</td>\n",
       "    </tr>\n",
       "    <tr>\n",
       "      <th>4</th>\n",
       "      <td>0.30</td>\n",
       "      <td>0.810761</td>\n",
       "      <td>0.800683</td>\n",
       "      <td>391.0</td>\n",
       "      <td>39.0</td>\n",
       "      <td>63.0</td>\n",
       "      <td>46.0</td>\n",
       "    </tr>\n",
       "  </tbody>\n",
       "</table>\n",
       "</div>"
      ],
      "text/plain": [
       "   threshold  Accuracy       AUC     TN     FP    FN    TP\n",
       "0       0.10  0.610390  0.800683  232.0  198.0  12.0  97.0\n",
       "1       0.15  0.686456  0.800683  289.0  141.0  28.0  81.0\n",
       "2       0.20  0.736549  0.800683  328.0  102.0  40.0  69.0\n",
       "3       0.25  0.786642  0.800683  370.0   60.0  55.0  54.0\n",
       "4       0.30  0.810761  0.800683  391.0   39.0  63.0  46.0"
      ]
     },
     "execution_count": 65,
     "metadata": {},
     "output_type": "execute_result"
    }
   ],
   "source": [
    "# THRESHOLD TEST\n",
    "results = pd.DataFrame(columns=['threshold', 'Accuracy', 'AUC', 'TN', 'FP', 'FN', 'TP'])\n",
    "predictions = exp.predict_model(trained_model_catboost, raw_score=True, encoded_labels=True)\n",
    "\n",
    "for thres in [x / 100 for x in range(10, 31, 5)]:\n",
    "    predictions['prediction_label'] = (predictions['prediction_score_1'] > thres).astype(int)\n",
    "    tn, fp, fn, tp = confusion_matrix(predictions[target], predictions['prediction_label']).ravel()\n",
    "    auc = roc_auc_score(predictions[target], predictions['prediction_score_1'])\n",
    "    accuracy = accuracy_score(predictions[target], predictions['prediction_label'])\n",
    "\n",
    "    row = [thres, accuracy, auc, tn, fp, fn, tp]\n",
    "    results.loc[len(results)] = row\n",
    "    \n",
    "results"
   ]
  },
  {
   "cell_type": "code",
   "execution_count": 89,
   "id": "0ba6b81d-434a-442e-ab4c-52a36ed31934",
   "metadata": {
    "pycharm": {
     "name": "#%%\n"
    }
   },
   "outputs": [
    {
     "data": {
      "text/plain": [
       "0    432\n",
       "1    107\n",
       "Name: cmltv_90_bad, dtype: int64"
      ]
     },
     "execution_count": 89,
     "metadata": {},
     "output_type": "execute_result"
    }
   ],
   "source": [
    "test_set = exp.get_config('test')\n",
    "test_set[target].value_counts()"
   ]
  },
  {
   "cell_type": "code",
   "execution_count": 35,
   "id": "3ffadffc-d1d3-4cf7-9f0a-f501d649b219",
   "metadata": {
    "collapsed": true,
    "jupyter": {
     "outputs_hidden": true
    },
    "pycharm": {
     "name": "#%%\n"
    }
   },
   "outputs": [
    {
     "data": {
      "image/png": "[encoded data removed]",
      "text/plain": [
       "<Figure size 800x950 with 2 Axes>"
      ]
     },
     "metadata": {},
     "output_type": "display_data"
    }
   ],
   "source": [
    "exp.interpret_model(trained_model_catboost)"
   ]
  },
  {
   "cell_type": "code",
   "execution_count": 29,
   "id": "5bd6db44-e77d-4b52-be46-fe842cac36e3",
   "metadata": {
    "pycharm": {
     "name": "#%%\n"
    }
   },
   "outputs": [
    {
     "data": {
      "application/vnd.jupyter.widget-view+json": {
       "model_id": "5a46afb2fb8647b2aa7f43edcb80bc08",
       "version_major": 2,
       "version_minor": 0
      },
      "text/plain": [
       "interactive(children=(ToggleButtons(description='Plot Type:', icons=('',), options=(('Pipeline Plot', 'pipelin…"
      ]
     },
     "metadata": {},
     "output_type": "display_data"
    }
   ],
   "source": [
    "exp.evaluate_model(trained_model_catboost)"
   ]
  },
  {
   "cell_type": "code",
   "execution_count": 30,
   "id": "3f8e7ee7-b13e-4018-afd9-e13a4676f8b4",
   "metadata": {
    "pycharm": {
     "name": "#%%\n"
    }
   },
   "outputs": [
    {
     "data": {
      "image/png": "[encoded data removed]",
      "text/plain": [
       "<Figure size 3200x600 with 1 Axes>"
      ]
     },
     "metadata": {},
     "output_type": "display_data"
    }
   ],
   "source": [
    "exp.plot_model(trained_model_catboost, plot='pipeline' )"
   ]
  },
  {
   "cell_type": "code",
   "execution_count": 116,
   "id": "440deb81-3675-4f43-a761-d53012b001f8",
   "metadata": {
    "pycharm": {
     "name": "#%%\n"
    }
   },
   "outputs": [
    {
     "data": {
      "text/html": [
       "<style type=\"text/css\">\n",
       "</style>\n",
       "<table id=\"T_51c77\">\n",
       "  <thead>\n",
       "    <tr>\n",
       "      <th class=\"blank level0\" >&nbsp;</th>\n",
       "      <th id=\"T_51c77_level0_col0\" class=\"col_heading level0 col0\" >Model</th>\n",
       "      <th id=\"T_51c77_level0_col1\" class=\"col_heading level0 col1\" >Accuracy</th>\n",
       "      <th id=\"T_51c77_level0_col2\" class=\"col_heading level0 col2\" >AUC</th>\n",
       "      <th id=\"T_51c77_level0_col3\" class=\"col_heading level0 col3\" >Recall</th>\n",
       "      <th id=\"T_51c77_level0_col4\" class=\"col_heading level0 col4\" >Prec.</th>\n",
       "      <th id=\"T_51c77_level0_col5\" class=\"col_heading level0 col5\" >F1</th>\n",
       "      <th id=\"T_51c77_level0_col6\" class=\"col_heading level0 col6\" >Kappa</th>\n",
       "      <th id=\"T_51c77_level0_col7\" class=\"col_heading level0 col7\" >MCC</th>\n",
       "    </tr>\n",
       "  </thead>\n",
       "  <tbody>\n",
       "    <tr>\n",
       "      <th id=\"T_51c77_level0_row0\" class=\"row_heading level0 row0\" >0</th>\n",
       "      <td id=\"T_51c77_row0_col0\" class=\"data row0 col0\" >CatBoost Classifier</td>\n",
       "      <td id=\"T_51c77_row0_col1\" class=\"data row0 col1\" >0.8130</td>\n",
       "      <td id=\"T_51c77_row0_col2\" class=\"data row0 col2\" >0.7994</td>\n",
       "      <td id=\"T_51c77_row0_col3\" class=\"data row0 col3\" >0.3000</td>\n",
       "      <td id=\"T_51c77_row0_col4\" class=\"data row0 col4\" >0.5789</td>\n",
       "      <td id=\"T_51c77_row0_col5\" class=\"data row0 col5\" >0.3952</td>\n",
       "      <td id=\"T_51c77_row0_col6\" class=\"data row0 col6\" >0.2975</td>\n",
       "      <td id=\"T_51c77_row0_col7\" class=\"data row0 col7\" >0.3201</td>\n",
       "    </tr>\n",
       "  </tbody>\n",
       "</table>\n"
      ],
      "text/plain": [
       "<pandas.io.formats.style.Styler at 0x7feb256cb430>"
      ]
     },
     "metadata": {},
     "output_type": "display_data"
    }
   ],
   "source": [
    "predictions = exp.predict_model(trained_model_catboost, raw_score=True, encoded_labels=True)"
   ]
  },
  {
   "cell_type": "code",
   "execution_count": 117,
   "id": "cdc5db21-17dd-40fd-befb-3232c9c59051",
   "metadata": {
    "pycharm": {
     "name": "#%%\n"
    }
   },
   "outputs": [],
   "source": [
    "# final = test.copy()\n",
    "final['prediction_6'] = list(predictions['prediction_score_0'])"
   ]
  },
  {
   "cell_type": "code",
   "execution_count": 118,
   "id": "d5212bac-d544-4ee1-8a38-3309915b399f",
   "metadata": {
    "pycharm": {
     "name": "#%%\n"
    }
   },
   "outputs": [
    {
     "data": {
      "text/html": [
       "<div>\n",
       "<style scoped>\n",
       "    .dataframe tbody tr th:only-of-type {\n",
       "        vertical-align: middle;\n",
       "    }\n",
       "\n",
       "    .dataframe tbody tr th {\n",
       "        vertical-align: top;\n",
       "    }\n",
       "\n",
       "    .dataframe thead th {\n",
       "        text-align: right;\n",
       "    }\n",
       "</style>\n",
       "<table border=\"1\" class=\"dataframe\">\n",
       "  <thead>\n",
       "    <tr style=\"text-align: right;\">\n",
       "      <th></th>\n",
       "      <th>client_id</th>\n",
       "      <th>loan_currency</th>\n",
       "      <th>loan_amount</th>\n",
       "      <th>date_of_disbursement</th>\n",
       "      <th>date_of_closure_based_on_contract</th>\n",
       "      <th>duration_at_disbursement_months</th>\n",
       "      <th>interest_rate</th>\n",
       "      <th>max_dpd_3_year</th>\n",
       "      <th>cumulative_days_of_late_payments_throughout_loan_repayments</th>\n",
       "      <th>quantity_of_prior_loans_at_the_time_of_disbursement_at_cbi</th>\n",
       "      <th>...</th>\n",
       "      <th>inflation_rate</th>\n",
       "      <th>manufacturing_PMI</th>\n",
       "      <th>CPI</th>\n",
       "      <th>IsBad_30</th>\n",
       "      <th>prediction_1</th>\n",
       "      <th>prediction_2</th>\n",
       "      <th>prediction_3</th>\n",
       "      <th>prediction_4</th>\n",
       "      <th>prediction_5</th>\n",
       "      <th>prediction_6</th>\n",
       "    </tr>\n",
       "  </thead>\n",
       "  <tbody>\n",
       "    <tr>\n",
       "      <th>1826</th>\n",
       "      <td>9765</td>\n",
       "      <td>AED</td>\n",
       "      <td>150000.0</td>\n",
       "      <td>2021-09-01</td>\n",
       "      <td>2025-08-11</td>\n",
       "      <td>48</td>\n",
       "      <td>0.0800</td>\n",
       "      <td>0</td>\n",
       "      <td>0</td>\n",
       "      <td>0</td>\n",
       "      <td>...</td>\n",
       "      <td>1.2</td>\n",
       "      <td>53.3</td>\n",
       "      <td>107.21</td>\n",
       "      <td>0.0</td>\n",
       "      <td>0.9548</td>\n",
       "      <td>0.9999</td>\n",
       "      <td>0.8716</td>\n",
       "      <td>1.0000</td>\n",
       "      <td>0.8862</td>\n",
       "      <td>1.0000</td>\n",
       "    </tr>\n",
       "    <tr>\n",
       "      <th>1709</th>\n",
       "      <td>6024</td>\n",
       "      <td>AED</td>\n",
       "      <td>175000.0</td>\n",
       "      <td>2021-03-07</td>\n",
       "      <td>2024-05-27</td>\n",
       "      <td>39</td>\n",
       "      <td>0.0650</td>\n",
       "      <td>0</td>\n",
       "      <td>0</td>\n",
       "      <td>4</td>\n",
       "      <td>...</td>\n",
       "      <td>-1.1</td>\n",
       "      <td>52.6</td>\n",
       "      <td>105.75</td>\n",
       "      <td>0.0</td>\n",
       "      <td>0.9993</td>\n",
       "      <td>0.9940</td>\n",
       "      <td>0.9986</td>\n",
       "      <td>0.9901</td>\n",
       "      <td>0.9994</td>\n",
       "      <td>0.9931</td>\n",
       "    </tr>\n",
       "    <tr>\n",
       "      <th>1593</th>\n",
       "      <td>5879</td>\n",
       "      <td>AED</td>\n",
       "      <td>262000.0</td>\n",
       "      <td>2017-08-09</td>\n",
       "      <td>2021-08-02</td>\n",
       "      <td>48</td>\n",
       "      <td>0.0775</td>\n",
       "      <td>0</td>\n",
       "      <td>0</td>\n",
       "      <td>4</td>\n",
       "      <td>...</td>\n",
       "      <td>0.8</td>\n",
       "      <td>57.3</td>\n",
       "      <td>107.46</td>\n",
       "      <td>0.0</td>\n",
       "      <td>0.9690</td>\n",
       "      <td>0.9980</td>\n",
       "      <td>0.9692</td>\n",
       "      <td>0.9978</td>\n",
       "      <td>0.9429</td>\n",
       "      <td>0.9980</td>\n",
       "    </tr>\n",
       "    <tr>\n",
       "      <th>1299</th>\n",
       "      <td>5534</td>\n",
       "      <td>AED</td>\n",
       "      <td>750000.0</td>\n",
       "      <td>2018-05-07</td>\n",
       "      <td>2022-04-29</td>\n",
       "      <td>48</td>\n",
       "      <td>0.0500</td>\n",
       "      <td>0</td>\n",
       "      <td>0</td>\n",
       "      <td>6</td>\n",
       "      <td>...</td>\n",
       "      <td>3.5</td>\n",
       "      <td>56.5</td>\n",
       "      <td>111.08</td>\n",
       "      <td>0.0</td>\n",
       "      <td>0.9975</td>\n",
       "      <td>1.0000</td>\n",
       "      <td>0.9935</td>\n",
       "      <td>1.0000</td>\n",
       "      <td>0.9953</td>\n",
       "      <td>1.0000</td>\n",
       "    </tr>\n",
       "    <tr>\n",
       "      <th>1718</th>\n",
       "      <td>6034</td>\n",
       "      <td>AED</td>\n",
       "      <td>300000.0</td>\n",
       "      <td>2017-08-15</td>\n",
       "      <td>2021-07-27</td>\n",
       "      <td>48</td>\n",
       "      <td>0.0700</td>\n",
       "      <td>0</td>\n",
       "      <td>0</td>\n",
       "      <td>5</td>\n",
       "      <td>...</td>\n",
       "      <td>0.8</td>\n",
       "      <td>57.3</td>\n",
       "      <td>107.46</td>\n",
       "      <td>0.0</td>\n",
       "      <td>0.9903</td>\n",
       "      <td>0.9806</td>\n",
       "      <td>0.9969</td>\n",
       "      <td>0.9940</td>\n",
       "      <td>0.9951</td>\n",
       "      <td>0.9922</td>\n",
       "    </tr>\n",
       "    <tr>\n",
       "      <th>...</th>\n",
       "      <td>...</td>\n",
       "      <td>...</td>\n",
       "      <td>...</td>\n",
       "      <td>...</td>\n",
       "      <td>...</td>\n",
       "      <td>...</td>\n",
       "      <td>...</td>\n",
       "      <td>...</td>\n",
       "      <td>...</td>\n",
       "      <td>...</td>\n",
       "      <td>...</td>\n",
       "      <td>...</td>\n",
       "      <td>...</td>\n",
       "      <td>...</td>\n",
       "      <td>...</td>\n",
       "      <td>...</td>\n",
       "      <td>...</td>\n",
       "      <td>...</td>\n",
       "      <td>...</td>\n",
       "      <td>...</td>\n",
       "      <td>...</td>\n",
       "    </tr>\n",
       "    <tr>\n",
       "      <th>1451</th>\n",
       "      <td>5712</td>\n",
       "      <td>AED</td>\n",
       "      <td>750000.0</td>\n",
       "      <td>2018-10-07</td>\n",
       "      <td>2022-09-29</td>\n",
       "      <td>48</td>\n",
       "      <td>0.0625</td>\n",
       "      <td>0</td>\n",
       "      <td>0</td>\n",
       "      <td>4</td>\n",
       "      <td>...</td>\n",
       "      <td>1.6</td>\n",
       "      <td>55.0</td>\n",
       "      <td>110.40</td>\n",
       "      <td>0.0</td>\n",
       "      <td>0.9816</td>\n",
       "      <td>0.0945</td>\n",
       "      <td>0.9737</td>\n",
       "      <td>0.6799</td>\n",
       "      <td>0.9959</td>\n",
       "      <td>0.6132</td>\n",
       "    </tr>\n",
       "    <tr>\n",
       "      <th>1233</th>\n",
       "      <td>5463</td>\n",
       "      <td>AED</td>\n",
       "      <td>370000.0</td>\n",
       "      <td>2017-08-08</td>\n",
       "      <td>2021-08-30</td>\n",
       "      <td>49</td>\n",
       "      <td>0.0600</td>\n",
       "      <td>0</td>\n",
       "      <td>0</td>\n",
       "      <td>6</td>\n",
       "      <td>...</td>\n",
       "      <td>0.8</td>\n",
       "      <td>57.3</td>\n",
       "      <td>107.46</td>\n",
       "      <td>0.0</td>\n",
       "      <td>0.9000</td>\n",
       "      <td>0.6030</td>\n",
       "      <td>0.8774</td>\n",
       "      <td>0.9489</td>\n",
       "      <td>0.7603</td>\n",
       "      <td>0.9079</td>\n",
       "    </tr>\n",
       "    <tr>\n",
       "      <th>1578</th>\n",
       "      <td>5862</td>\n",
       "      <td>AED</td>\n",
       "      <td>600000.0</td>\n",
       "      <td>2018-08-06</td>\n",
       "      <td>2022-08-29</td>\n",
       "      <td>49</td>\n",
       "      <td>0.0600</td>\n",
       "      <td>0</td>\n",
       "      <td>0</td>\n",
       "      <td>5</td>\n",
       "      <td>...</td>\n",
       "      <td>3.9</td>\n",
       "      <td>55.0</td>\n",
       "      <td>111.60</td>\n",
       "      <td>0.0</td>\n",
       "      <td>0.9906</td>\n",
       "      <td>1.0000</td>\n",
       "      <td>0.9917</td>\n",
       "      <td>1.0000</td>\n",
       "      <td>0.9946</td>\n",
       "      <td>1.0000</td>\n",
       "    </tr>\n",
       "    <tr>\n",
       "      <th>1424</th>\n",
       "      <td>5677</td>\n",
       "      <td>AED</td>\n",
       "      <td>150000.0</td>\n",
       "      <td>2017-08-02</td>\n",
       "      <td>2022-02-10</td>\n",
       "      <td>55</td>\n",
       "      <td>0.0625</td>\n",
       "      <td>0</td>\n",
       "      <td>0</td>\n",
       "      <td>1</td>\n",
       "      <td>...</td>\n",
       "      <td>0.8</td>\n",
       "      <td>57.3</td>\n",
       "      <td>107.46</td>\n",
       "      <td>0.0</td>\n",
       "      <td>0.0074</td>\n",
       "      <td>0.9755</td>\n",
       "      <td>0.1293</td>\n",
       "      <td>0.9847</td>\n",
       "      <td>0.0246</td>\n",
       "      <td>0.9932</td>\n",
       "    </tr>\n",
       "    <tr>\n",
       "      <th>1753</th>\n",
       "      <td>5059</td>\n",
       "      <td>AED</td>\n",
       "      <td>110000.0</td>\n",
       "      <td>2017-12-23</td>\n",
       "      <td>2022-08-30</td>\n",
       "      <td>56</td>\n",
       "      <td>0.1200</td>\n",
       "      <td>2</td>\n",
       "      <td>2</td>\n",
       "      <td>1</td>\n",
       "      <td>...</td>\n",
       "      <td>2.7</td>\n",
       "      <td>57.7</td>\n",
       "      <td>109.36</td>\n",
       "      <td>0.0</td>\n",
       "      <td>0.9294</td>\n",
       "      <td>1.0000</td>\n",
       "      <td>0.9811</td>\n",
       "      <td>1.0000</td>\n",
       "      <td>0.9805</td>\n",
       "      <td>1.0000</td>\n",
       "    </tr>\n",
       "  </tbody>\n",
       "</table>\n",
       "<p>540 rows × 38 columns</p>\n",
       "</div>"
      ],
      "text/plain": [
       "      client_id loan_currency  loan_amount date_of_disbursement  \\\n",
       "1826       9765           AED     150000.0           2021-09-01   \n",
       "1709       6024           AED     175000.0           2021-03-07   \n",
       "1593       5879           AED     262000.0           2017-08-09   \n",
       "1299       5534           AED     750000.0           2018-05-07   \n",
       "1718       6034           AED     300000.0           2017-08-15   \n",
       "...         ...           ...          ...                  ...   \n",
       "1451       5712           AED     750000.0           2018-10-07   \n",
       "1233       5463           AED     370000.0           2017-08-08   \n",
       "1578       5862           AED     600000.0           2018-08-06   \n",
       "1424       5677           AED     150000.0           2017-08-02   \n",
       "1753       5059           AED     110000.0           2017-12-23   \n",
       "\n",
       "     date_of_closure_based_on_contract  duration_at_disbursement_months  \\\n",
       "1826                        2025-08-11                               48   \n",
       "1709                        2024-05-27                               39   \n",
       "1593                        2021-08-02                               48   \n",
       "1299                        2022-04-29                               48   \n",
       "1718                        2021-07-27                               48   \n",
       "...                                ...                              ...   \n",
       "1451                        2022-09-29                               48   \n",
       "1233                        2021-08-30                               49   \n",
       "1578                        2022-08-29                               49   \n",
       "1424                        2022-02-10                               55   \n",
       "1753                        2022-08-30                               56   \n",
       "\n",
       "      interest_rate  max_dpd_3_year  \\\n",
       "1826         0.0800               0   \n",
       "1709         0.0650               0   \n",
       "1593         0.0775               0   \n",
       "1299         0.0500               0   \n",
       "1718         0.0700               0   \n",
       "...             ...             ...   \n",
       "1451         0.0625               0   \n",
       "1233         0.0600               0   \n",
       "1578         0.0600               0   \n",
       "1424         0.0625               0   \n",
       "1753         0.1200               2   \n",
       "\n",
       "      cumulative_days_of_late_payments_throughout_loan_repayments  \\\n",
       "1826                                                  0             \n",
       "1709                                                  0             \n",
       "1593                                                  0             \n",
       "1299                                                  0             \n",
       "1718                                                  0             \n",
       "...                                                 ...             \n",
       "1451                                                  0             \n",
       "1233                                                  0             \n",
       "1578                                                  0             \n",
       "1424                                                  0             \n",
       "1753                                                  2             \n",
       "\n",
       "      quantity_of_prior_loans_at_the_time_of_disbursement_at_cbi  ...  \\\n",
       "1826                                                  0           ...   \n",
       "1709                                                  4           ...   \n",
       "1593                                                  4           ...   \n",
       "1299                                                  6           ...   \n",
       "1718                                                  5           ...   \n",
       "...                                                 ...           ...   \n",
       "1451                                                  4           ...   \n",
       "1233                                                  6           ...   \n",
       "1578                                                  5           ...   \n",
       "1424                                                  1           ...   \n",
       "1753                                                  1           ...   \n",
       "\n",
       "     inflation_rate manufacturing_PMI     CPI IsBad_30 prediction_1  \\\n",
       "1826            1.2              53.3  107.21      0.0       0.9548   \n",
       "1709           -1.1              52.6  105.75      0.0       0.9993   \n",
       "1593            0.8              57.3  107.46      0.0       0.9690   \n",
       "1299            3.5              56.5  111.08      0.0       0.9975   \n",
       "1718            0.8              57.3  107.46      0.0       0.9903   \n",
       "...             ...               ...     ...      ...          ...   \n",
       "1451            1.6              55.0  110.40      0.0       0.9816   \n",
       "1233            0.8              57.3  107.46      0.0       0.9000   \n",
       "1578            3.9              55.0  111.60      0.0       0.9906   \n",
       "1424            0.8              57.3  107.46      0.0       0.0074   \n",
       "1753            2.7              57.7  109.36      0.0       0.9294   \n",
       "\n",
       "      prediction_2 prediction_3  prediction_4  prediction_5 prediction_6  \n",
       "1826        0.9999       0.8716        1.0000        0.8862       1.0000  \n",
       "1709        0.9940       0.9986        0.9901        0.9994       0.9931  \n",
       "1593        0.9980       0.9692        0.9978        0.9429       0.9980  \n",
       "1299        1.0000       0.9935        1.0000        0.9953       1.0000  \n",
       "1718        0.9806       0.9969        0.9940        0.9951       0.9922  \n",
       "...            ...          ...           ...           ...          ...  \n",
       "1451        0.0945       0.9737        0.6799        0.9959       0.6132  \n",
       "1233        0.6030       0.8774        0.9489        0.7603       0.9079  \n",
       "1578        1.0000       0.9917        1.0000        0.9946       1.0000  \n",
       "1424        0.9755       0.1293        0.9847        0.0246       0.9932  \n",
       "1753        1.0000       0.9811        1.0000        0.9805       1.0000  \n",
       "\n",
       "[540 rows x 38 columns]"
      ]
     },
     "execution_count": 118,
     "metadata": {},
     "output_type": "execute_result"
    }
   ],
   "source": [
    "final"
   ]
  },
  {
   "cell_type": "code",
   "execution_count": 119,
   "id": "fa90140d-b820-4da3-ab91-bc5191513424",
   "metadata": {
    "pycharm": {
     "name": "#%%\n"
    }
   },
   "outputs": [],
   "source": [
    "final.to_excel('results.xlsx',index=False)"
   ]
  }
 ],
 "metadata": {
  "kernelspec": {
   "display_name": "Python 3 (ipykernel)",
   "language": "python",
   "name": "python3"
  },
  "language_info": {
   "codemirror_mode": {
    "name": "ipython",
    "version": 3
   },
   "file_extension": ".py",
   "mimetype": "text/x-python",
   "name": "python",
   "nbconvert_exporter": "python",
   "pygments_lexer": "ipython3",
   "version": "3.8.17"
  }
 },
 "nbformat": 4,
 "nbformat_minor": 5
}
