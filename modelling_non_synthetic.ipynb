{
 "cells": [
  {
   "cell_type": "code",
   "execution_count": 1,
   "id": "0e4a4c19-1a69-4c4c-9afa-523a6498780c",
   "metadata": {
    "pycharm": {
     "name": "#%%\n"
    }
   },
   "outputs": [],
   "source": [
    "import pandas as pd\n",
    "import numpy as np\n",
    "from pycaret.classification import *\n",
    "from sklearn.metrics import classification_report, confusion_matrix, roc_auc_score, accuracy_score\n",
    "from pprint import pprint"
   ]
  },
  {
   "cell_type": "code",
   "execution_count": 2,
   "id": "780f81be-17d3-4e8a-bedf-23a7fddfa65b",
   "metadata": {},
   "outputs": [],
   "source": [
    "pd.set_option('display.max_columns', None)"
   ]
  },
  {
   "cell_type": "code",
   "execution_count": 3,
   "id": "0436cb91-85be-485d-b544-5db8c56d1adf",
   "metadata": {
    "pycharm": {
     "name": "#%%\n"
    }
   },
   "outputs": [],
   "source": [
    "data = pd.read_excel('data/data.xlsx')"
   ]
  },
  {
   "cell_type": "markdown",
   "id": "6160deca-4ba6-4e25-bc89-77ec4245f31c",
   "metadata": {
    "pycharm": {
     "name": "#%% md\n"
    }
   },
   "source": [
    "## Data cleaning and feature selection"
   ]
  },
  {
   "cell_type": "code",
   "execution_count": 4,
   "id": "057c41db-f41e-407e-a720-bcf5e95509d0",
   "metadata": {
    "pycharm": {
     "name": "#%%\n"
    }
   },
   "outputs": [],
   "source": [
    "# Adding monthly Macro-variables #\n",
    "macro = pd.read_excel('data/UAE_Monthly1.xlsx')\n",
    "macro['DateTime'] = macro['DateTime'].astype('datetime64')\n",
    "\n",
    "data['inflation_rate'] = np.zeros(len(data))\n",
    "data['manufacturing_PMI'] = np.zeros(len(data))\n",
    "\n",
    "for i in data.index:\n",
    "    for j in macro.index:\n",
    "        if data.loc[i, 'date_of_disbursement'].year == macro.loc[j, 'DateTime'].year and data.loc[i, 'date_of_disbursement'].month == macro.loc[j, 'DateTime'].month:\n",
    "            data.at[i, 'inflation_rate']    = macro.loc[j, 'Inflation Rate']\n",
    "            data.at[i, 'manufacturing_PMI'] = macro.loc[j, 'Manufacturing PMI']\n",
    "            break"
   ]
  },
  {
   "cell_type": "code",
   "execution_count": 5,
   "id": "62e8d17b-0139-4c88-9473-6e1e1abc245a",
   "metadata": {
    "pycharm": {
     "name": "#%%\n"
    }
   },
   "outputs": [],
   "source": [
    "# Adding quarterly Macro-variables #\n",
    "macro2 = pd.read_excel('data/UAE_quarter1.xlsx')\n",
    "macro2['DateTime'] = macro2['DateTime'].astype('datetime64')\n",
    "\n",
    "data['CPI'] = [ np.nan for i in data.index]\n",
    "\n",
    "for i in data.index:\n",
    "    for j in macro2.index:\n",
    "        if data.loc[i, 'date_of_disbursement'].year == macro2.loc[j, 'DateTime'].year and data.loc[i, 'date_of_disbursement'].month == macro2.loc[j, 'DateTime'].month:\n",
    "            data.at[i, 'CPI'] = macro2.loc[j, 'Consumer Price Index CPI']\n",
    "            break"
   ]
  },
  {
   "cell_type": "code",
   "execution_count": 8,
   "id": "5cd569ac-2e6c-403f-874c-889fd910b0ba",
   "metadata": {
    "pycharm": {
     "name": "#%%\n"
    }
   },
   "outputs": [],
   "source": [
    "data_macro = data.copy()"
   ]
  },
  {
   "cell_type": "markdown",
   "id": "c7ff0b1c-9c79-44d3-85ac-5a2bbbf9ea03",
   "metadata": {
    "pycharm": {
     "name": "#%% md\n"
    }
   },
   "source": [
    "---"
   ]
  },
  {
   "cell_type": "code",
   "execution_count": 9,
   "id": "ce45b0ce-4674-464b-b3c9-025385921d80",
   "metadata": {
    "pycharm": {
     "name": "#%%\n"
    }
   },
   "outputs": [
    {
     "name": "stdout",
     "output_type": "stream",
     "text": [
      "0    2646\n",
      "1     543\n",
      "Name: cmltv_90_bad, dtype: int64\n"
     ]
    }
   ],
   "source": [
    "# Creating target columns #\n",
    "data_macro['max_90_bad'] = (data_macro['max_dpd_3_year'] >= 90).astype(int)\n",
    "data_macro['cmltv_90_bad'] = (data_macro['cumulative_days_of_late_payments_throughout_loan_repayments'] >= 90).astype(int)\n",
    "\n",
    "print(data_macro['cmltv_90_bad'].value_counts())"
   ]
  },
  {
   "cell_type": "code",
   "execution_count": 10,
   "id": "7f0b62a4-deea-436f-8042-2f7a9d0c359b",
   "metadata": {
    "pycharm": {
     "name": "#%%\n"
    },
    "tags": []
   },
   "outputs": [],
   "source": [
    "target = 'cmltv_90_bad'\n",
    "\n",
    "cat_feats = [\n",
    "    'location',\n",
    "    'emirates',\n",
    "    'gender',\n",
    "    'family_status',\n",
    "    'employment_sphere',\n",
    "    'collateral',\n",
    "    'type_of_product',\n",
    "    'employment_level'\n",
    "]\n",
    "num_feats = [\n",
    "    'loan_amount',\n",
    "    'duration_at_disbursement_months',\n",
    "    'interest_rate',\n",
    "    'quantity_of_prior_loans_at_the_time_of_disbursement_at_cbi',\n",
    "    'age',\n",
    "    'monthly_income_aed',\n",
    "    'work_experience',\n",
    "    'inflation_rate',\n",
    "    'manufacturing_PMI',\n",
    "    'presence_of_car',\n",
    "    'presence_of_housing',\n",
    "    'CPI'\n",
    "]\n",
    "\n",
    "ignore_feats = [\n",
    "    'client_id',\n",
    "    'loan_currency',\n",
    "    'date_of_disbursement',\n",
    "    'date_of_closure_based_on_contract',\n",
    "    'max_dpd_3_year',\n",
    "    'cumulative_days_of_late_payments_throughout_loan_repayments',\n",
    "    'status_of_loan',\n",
    "    'quantity_of_prior_loans_at_cbi',\n",
    "    'coborrower',\n",
    "    'top_up',\n",
    "    'dsr',\n",
    "    'max_90_bad'\n",
    "]"
   ]
  },
  {
   "cell_type": "code",
   "execution_count": 11,
   "id": "18f227e3-2814-4afd-9115-148a572b14c6",
   "metadata": {
    "pycharm": {
     "name": "#%%\n"
    }
   },
   "outputs": [
    {
     "data": {
      "text/plain": [
       "client_id                                                        0\n",
       "loan_currency                                                    0\n",
       "loan_amount                                                      0\n",
       "date_of_disbursement                                             0\n",
       "date_of_closure_based_on_contract                                0\n",
       "duration_at_disbursement_months                                  0\n",
       "interest_rate                                                    0\n",
       "max_dpd_3_year                                                   0\n",
       "cumulative_days_of_late_payments_throughout_loan_repayments      0\n",
       "quantity_of_prior_loans_at_the_time_of_disbursement_at_cbi       0\n",
       "type_of_product                                                  0\n",
       "status_of_loan                                                   0\n",
       "location                                                         0\n",
       "emirates                                                         0\n",
       "gender                                                           0\n",
       "age                                                              0\n",
       "family_status                                                    0\n",
       "monthly_income_aed                                               0\n",
       "quantity_of_prior_loans_at_cbi                                   0\n",
       "employment_sphere                                                0\n",
       "employment_level                                                 0\n",
       "work_experience                                                  4\n",
       "presence_of_car                                                  0\n",
       "presence_of_housing                                              0\n",
       "coborrower                                                       0\n",
       "collateral                                                       0\n",
       "top_up                                                           0\n",
       "dsr                                                             97\n",
       "inflation_rate                                                 168\n",
       "manufacturing_PMI                                                0\n",
       "CPI                                                            239\n",
       "max_90_bad                                                       0\n",
       "cmltv_90_bad                                                     0\n",
       "dtype: int64"
      ]
     },
     "execution_count": 11,
     "metadata": {},
     "output_type": "execute_result"
    }
   ],
   "source": [
    "data_macro.isna().sum()"
   ]
  },
  {
   "cell_type": "code",
   "execution_count": 12,
   "id": "fc24dd59-a6e2-40b4-bf6e-d6ac3d68167b",
   "metadata": {
    "pycharm": {
     "name": "#%%\n"
    },
    "tags": []
   },
   "outputs": [],
   "source": [
    "def isnan(num):\n",
    "    return num != num\n",
    "\n",
    "# Converting Work experience feature to the months #\n",
    "for i in data_macro.index:\n",
    "    it = data_macro.loc[i, 'work_experience']\n",
    "    years, months, gap, minus = 0, 0, False, False\n",
    "\n",
    "    if isnan(it):\n",
    "        continue\n",
    "    \n",
    "    # Extracting year and month from the string #\n",
    "    for j in it :\n",
    "        if j >= '0' and j <= '9' :\n",
    "            if not gap :\n",
    "                years = years*10 + int(j)\n",
    "            else :\n",
    "                months = months*10 + int(j)\n",
    "        elif j == '-' :\n",
    "            minus = True\n",
    "            gap = True\n",
    "        else :\n",
    "            gap = True\n",
    "    # Setting the new value to the DataFrame #\n",
    "    if minus :\n",
    "        months *= -1\n",
    "        \n",
    "    data_macro.at[i, 'work_experience'] = int(years*12 + months)\n",
    "    \n",
    "data_macro['work_experience'] = data_macro['work_experience'].astype('float32')"
   ]
  },
  {
   "cell_type": "code",
   "execution_count": 14,
   "id": "547fd862-7be0-4cd1-a24c-70469d7167dc",
   "metadata": {
    "pycharm": {
     "name": "#%%\n"
    }
   },
   "outputs": [
    {
     "data": {
      "text/html": [
       "<div>\n",
       "<style scoped>\n",
       "    .dataframe tbody tr th:only-of-type {\n",
       "        vertical-align: middle;\n",
       "    }\n",
       "\n",
       "    .dataframe tbody tr th {\n",
       "        vertical-align: top;\n",
       "    }\n",
       "\n",
       "    .dataframe thead th {\n",
       "        text-align: right;\n",
       "    }\n",
       "</style>\n",
       "<table border=\"1\" class=\"dataframe\">\n",
       "  <thead>\n",
       "    <tr style=\"text-align: right;\">\n",
       "      <th></th>\n",
       "      <th>loan_currency</th>\n",
       "      <th>interest_rate</th>\n",
       "      <th>work_experience</th>\n",
       "    </tr>\n",
       "  </thead>\n",
       "  <tbody>\n",
       "    <tr>\n",
       "      <th>85</th>\n",
       "      <td>AED</td>\n",
       "      <td>0.068444</td>\n",
       "      <td>NaN</td>\n",
       "    </tr>\n",
       "    <tr>\n",
       "      <th>143</th>\n",
       "      <td>AED</td>\n",
       "      <td>0.080508</td>\n",
       "      <td>NaN</td>\n",
       "    </tr>\n",
       "    <tr>\n",
       "      <th>2097</th>\n",
       "      <td>AED</td>\n",
       "      <td>0.045000</td>\n",
       "      <td>NaN</td>\n",
       "    </tr>\n",
       "    <tr>\n",
       "      <th>2536</th>\n",
       "      <td>AED</td>\n",
       "      <td>0.120000</td>\n",
       "      <td>NaN</td>\n",
       "    </tr>\n",
       "  </tbody>\n",
       "</table>\n",
       "</div>"
      ],
      "text/plain": [
       "     loan_currency  interest_rate  work_experience\n",
       "85             AED       0.068444              NaN\n",
       "143            AED       0.080508              NaN\n",
       "2097           AED       0.045000              NaN\n",
       "2536           AED       0.120000              NaN"
      ]
     },
     "execution_count": 14,
     "metadata": {},
     "output_type": "execute_result"
    }
   ],
   "source": [
    "data_macro[data_macro['work_experience'].isna()][['loan_currency', 'interest_rate', 'work_experience']]"
   ]
  },
  {
   "cell_type": "code",
   "execution_count": 13,
   "id": "283675d0-5c3c-4909-b5ff-34e8b00c91e0",
   "metadata": {},
   "outputs": [
    {
     "data": {
      "text/html": [
       "<div>\n",
       "<style scoped>\n",
       "    .dataframe tbody tr th:only-of-type {\n",
       "        vertical-align: middle;\n",
       "    }\n",
       "\n",
       "    .dataframe tbody tr th {\n",
       "        vertical-align: top;\n",
       "    }\n",
       "\n",
       "    .dataframe thead th {\n",
       "        text-align: right;\n",
       "    }\n",
       "</style>\n",
       "<table border=\"1\" class=\"dataframe\">\n",
       "  <thead>\n",
       "    <tr style=\"text-align: right;\">\n",
       "      <th></th>\n",
       "      <th>loan_currency</th>\n",
       "      <th>interest_rate</th>\n",
       "      <th>work_experience</th>\n",
       "    </tr>\n",
       "  </thead>\n",
       "  <tbody>\n",
       "    <tr>\n",
       "      <th>0</th>\n",
       "      <td>AED</td>\n",
       "      <td>0.0549</td>\n",
       "      <td>60.0</td>\n",
       "    </tr>\n",
       "    <tr>\n",
       "      <th>1</th>\n",
       "      <td>AED</td>\n",
       "      <td>0.0300</td>\n",
       "      <td>229.0</td>\n",
       "    </tr>\n",
       "    <tr>\n",
       "      <th>2</th>\n",
       "      <td>AED</td>\n",
       "      <td>0.0457</td>\n",
       "      <td>51.0</td>\n",
       "    </tr>\n",
       "    <tr>\n",
       "      <th>3</th>\n",
       "      <td>AED</td>\n",
       "      <td>0.0686</td>\n",
       "      <td>44.0</td>\n",
       "    </tr>\n",
       "    <tr>\n",
       "      <th>4</th>\n",
       "      <td>AED</td>\n",
       "      <td>0.0457</td>\n",
       "      <td>436.0</td>\n",
       "    </tr>\n",
       "    <tr>\n",
       "      <th>...</th>\n",
       "      <td>...</td>\n",
       "      <td>...</td>\n",
       "      <td>...</td>\n",
       "    </tr>\n",
       "    <tr>\n",
       "      <th>3184</th>\n",
       "      <td>AED</td>\n",
       "      <td>0.0750</td>\n",
       "      <td>122.0</td>\n",
       "    </tr>\n",
       "    <tr>\n",
       "      <th>3185</th>\n",
       "      <td>AED</td>\n",
       "      <td>0.0600</td>\n",
       "      <td>82.0</td>\n",
       "    </tr>\n",
       "    <tr>\n",
       "      <th>3186</th>\n",
       "      <td>AED</td>\n",
       "      <td>0.1150</td>\n",
       "      <td>128.0</td>\n",
       "    </tr>\n",
       "    <tr>\n",
       "      <th>3187</th>\n",
       "      <td>AED</td>\n",
       "      <td>0.0550</td>\n",
       "      <td>23.0</td>\n",
       "    </tr>\n",
       "    <tr>\n",
       "      <th>3188</th>\n",
       "      <td>AED</td>\n",
       "      <td>0.1100</td>\n",
       "      <td>89.0</td>\n",
       "    </tr>\n",
       "  </tbody>\n",
       "</table>\n",
       "<p>3189 rows × 3 columns</p>\n",
       "</div>"
      ],
      "text/plain": [
       "     loan_currency  interest_rate  work_experience\n",
       "0              AED         0.0549             60.0\n",
       "1              AED         0.0300            229.0\n",
       "2              AED         0.0457             51.0\n",
       "3              AED         0.0686             44.0\n",
       "4              AED         0.0457            436.0\n",
       "...            ...            ...              ...\n",
       "3184           AED         0.0750            122.0\n",
       "3185           AED         0.0600             82.0\n",
       "3186           AED         0.1150            128.0\n",
       "3187           AED         0.0550             23.0\n",
       "3188           AED         0.1100             89.0\n",
       "\n",
       "[3189 rows x 3 columns]"
      ]
     },
     "execution_count": 13,
     "metadata": {},
     "output_type": "execute_result"
    }
   ],
   "source": [
    "data_macro[['loan_currency', 'interest_rate', 'work_experience']]"
   ]
  },
  {
   "cell_type": "code",
   "execution_count": 15,
   "id": "d37f9b05-64be-4c4c-a54d-4bc568966058",
   "metadata": {
    "pycharm": {
     "name": "#%%\n"
    }
   },
   "outputs": [],
   "source": [
    "data_na = data_macro.dropna(subset=cat_feats+num_feats)"
   ]
  },
  {
   "cell_type": "markdown",
   "id": "7a689e40-10dc-4f18-80a8-a57c1f17f8b2",
   "metadata": {
    "pycharm": {
     "name": "#%% md\n"
    }
   },
   "source": [
    "---"
   ]
  },
  {
   "cell_type": "code",
   "execution_count": 16,
   "id": "0f45ea35-599d-4b2c-9388-9bdb6a331473",
   "metadata": {
    "pycharm": {
     "name": "#%%\n"
    },
    "tags": []
   },
   "outputs": [],
   "source": [
    "# Choosing only Closed loans & Active loans that are already bad #\n",
    "data_closed_or_bad = data_na[(data_na['status_of_loan'] == 'Active') & (data_na[target] == 1) | (data_na['status_of_loan'] != 'Active')]"
   ]
  },
  {
   "cell_type": "code",
   "execution_count": 17,
   "id": "c199c4fb-34d7-4136-ab7f-3729235de797",
   "metadata": {
    "pycharm": {
     "name": "#%%\n"
    }
   },
   "outputs": [],
   "source": [
    "from sklearn.model_selection import train_test_split\n",
    "train, test = train_test_split(data_closed_or_bad, train_size=0.8, random_state=89, stratify=data_closed_or_bad[target])"
   ]
  },
  {
   "cell_type": "code",
   "execution_count": 18,
   "id": "4e7a035d-b107-4a0e-94be-248cc90098dd",
   "metadata": {},
   "outputs": [],
   "source": [
    "# Target mean encoding #\n",
    "cols = cat_feats\n",
    "\n",
    "for col in cols:\n",
    "    stats = train[target].groupby(train[col]).agg(['count', 'mean'])\n",
    "    train[col+'_mean_encoded'] = train[col].copy()\n",
    "    test[col+'_mean_encoded'] = test[col].copy()\n",
    "    \n",
    "    for i in train[col+'_mean_encoded'].unique():\n",
    "        train[col+'_mean_encoded'].replace(i, stats.loc[i]['mean'], inplace=True)        \n",
    "        test[col+'_mean_encoded'].replace(i, stats.loc[i]['mean'], inplace=True)"
   ]
  },
  {
   "cell_type": "code",
   "execution_count": 19,
   "id": "b76c2b85-d8c7-45bd-a6dc-fbcaa89930e4",
   "metadata": {},
   "outputs": [],
   "source": [
    "# Removing classes that are in test set but not in train set #\n",
    "for i in test.index :\n",
    "    for col in cat_feats :\n",
    "        if type(test[col+'_mean_encoded'][i]) == str:\n",
    "            test.drop(i,inplace=True)\n",
    "            break"
   ]
  },
  {
   "cell_type": "code",
   "execution_count": 20,
   "id": "91d6e42d-9f00-4c1e-a439-7283e37dfbc5",
   "metadata": {
    "pycharm": {
     "name": "#%%\n"
    }
   },
   "outputs": [],
   "source": [
    "# We move all categorical variables to numerical list #\n",
    "for i in cat_feats:\n",
    "    num_feats.extend( [i+'_mean_encoded'] )\n",
    "    ignore_feats.extend([i])\n",
    "\n",
    "cat_feats.clear()"
   ]
  },
  {
   "cell_type": "markdown",
   "id": "e7569763-38d1-479d-bba2-5c1e889adf7f",
   "metadata": {
    "pycharm": {
     "name": "#%% md\n"
    }
   },
   "source": [
    "---"
   ]
  },
  {
   "cell_type": "code",
   "execution_count": 21,
   "id": "42e7e452-9a39-468c-860d-d91ca9d32726",
   "metadata": {
    "pycharm": {
     "name": "#%%\n"
    }
   },
   "outputs": [
    {
     "name": "stdout",
     "output_type": "stream",
     "text": [
      "All variables are found in feature lists\n"
     ]
    }
   ],
   "source": [
    "# CHECK IF ALL COLUMNS ARE USED OR IF THERE IS AN EXTRA COLUMN\n",
    "all_columns = cat_feats + num_feats + ignore_feats\n",
    "dataset_columns = list(train.columns)\n",
    "dataset_columns.remove(target)\n",
    "\n",
    "if sorted(all_columns) == sorted(dataset_columns) :\n",
    "    print( 'All variables are found in feature lists' )\n",
    "else :\n",
    "    print('Features found in dataset but not in lists :')\n",
    "    for i in dataset_columns :\n",
    "        if i not in all_columns :\n",
    "            print(i)\n",
    "    \n",
    "    print('-'*50)\n",
    "    print('Features found in lists but not in dataset')\n",
    "    for i in all_columns :\n",
    "        if i not in dataset_columns :\n",
    "            print(i)"
   ]
  },
  {
   "cell_type": "code",
   "execution_count": 22,
   "id": "31684dce-9db6-42fb-a382-a83bf19e9ddf",
   "metadata": {
    "pycharm": {
     "name": "#%%\n"
    }
   },
   "outputs": [
    {
     "data": {
      "text/plain": [
       "True"
      ]
     },
     "execution_count": 22,
     "metadata": {},
     "output_type": "execute_result"
    }
   ],
   "source": [
    "# CHECK IF ALL COLUMNS ARE USED OR IF THERE IS AN EXTRA COLUMN\n",
    "all_columns = cat_feats + num_feats + ignore_feats\n",
    "dataset_columns = list(train.columns)\n",
    "dataset_columns.remove(target)\n",
    "sorted(all_columns) == sorted(dataset_columns)"
   ]
  },
  {
   "cell_type": "markdown",
   "id": "3560605a-c2f8-4720-9592-e54fd6e94956",
   "metadata": {
    "pycharm": {
     "name": "#%% md\n"
    }
   },
   "source": [
    "# Modeling\n",
    "---"
   ]
  },
  {
   "cell_type": "code",
   "execution_count": 30,
   "id": "562fbf30-b75b-49cf-91a8-3d9a3edfddb7",
   "metadata": {
    "pycharm": {
     "name": "#%%\n"
    },
    "tags": []
   },
   "outputs": [
    {
     "data": {
      "text/html": [
       "<style type=\"text/css\">\n",
       "#T_59669_row10_col1, #T_59669_row14_col1 {\n",
       "  background-color: lightgreen;\n",
       "}\n",
       "</style>\n",
       "<table id=\"T_59669\">\n",
       "  <thead>\n",
       "    <tr>\n",
       "      <th class=\"blank level0\" >&nbsp;</th>\n",
       "      <th id=\"T_59669_level0_col0\" class=\"col_heading level0 col0\" >Description</th>\n",
       "      <th id=\"T_59669_level0_col1\" class=\"col_heading level0 col1\" >Value</th>\n",
       "    </tr>\n",
       "  </thead>\n",
       "  <tbody>\n",
       "    <tr>\n",
       "      <th id=\"T_59669_level0_row0\" class=\"row_heading level0 row0\" >0</th>\n",
       "      <td id=\"T_59669_row0_col0\" class=\"data row0 col0\" >Session id</td>\n",
       "      <td id=\"T_59669_row0_col1\" class=\"data row0 col1\" >15</td>\n",
       "    </tr>\n",
       "    <tr>\n",
       "      <th id=\"T_59669_level0_row1\" class=\"row_heading level0 row1\" >1</th>\n",
       "      <td id=\"T_59669_row1_col0\" class=\"data row1 col0\" >Target</td>\n",
       "      <td id=\"T_59669_row1_col1\" class=\"data row1 col1\" >cmltv_90_bad</td>\n",
       "    </tr>\n",
       "    <tr>\n",
       "      <th id=\"T_59669_level0_row2\" class=\"row_heading level0 row2\" >2</th>\n",
       "      <td id=\"T_59669_row2_col0\" class=\"data row2 col0\" >Target type</td>\n",
       "      <td id=\"T_59669_row2_col1\" class=\"data row2 col1\" >Binary</td>\n",
       "    </tr>\n",
       "    <tr>\n",
       "      <th id=\"T_59669_level0_row3\" class=\"row_heading level0 row3\" >3</th>\n",
       "      <td id=\"T_59669_row3_col0\" class=\"data row3 col0\" >Original data shape</td>\n",
       "      <td id=\"T_59669_row3_col1\" class=\"data row3 col1\" >(2679, 41)</td>\n",
       "    </tr>\n",
       "    <tr>\n",
       "      <th id=\"T_59669_level0_row4\" class=\"row_heading level0 row4\" >4</th>\n",
       "      <td id=\"T_59669_row4_col0\" class=\"data row4 col0\" >Transformed data shape</td>\n",
       "      <td id=\"T_59669_row4_col1\" class=\"data row4 col1\" >(2679, 20)</td>\n",
       "    </tr>\n",
       "    <tr>\n",
       "      <th id=\"T_59669_level0_row5\" class=\"row_heading level0 row5\" >5</th>\n",
       "      <td id=\"T_59669_row5_col0\" class=\"data row5 col0\" >Transformed train set shape</td>\n",
       "      <td id=\"T_59669_row5_col1\" class=\"data row5 col1\" >(2152, 20)</td>\n",
       "    </tr>\n",
       "    <tr>\n",
       "      <th id=\"T_59669_level0_row6\" class=\"row_heading level0 row6\" >6</th>\n",
       "      <td id=\"T_59669_row6_col0\" class=\"data row6 col0\" >Transformed test set shape</td>\n",
       "      <td id=\"T_59669_row6_col1\" class=\"data row6 col1\" >(527, 20)</td>\n",
       "    </tr>\n",
       "    <tr>\n",
       "      <th id=\"T_59669_level0_row7\" class=\"row_heading level0 row7\" >7</th>\n",
       "      <td id=\"T_59669_row7_col0\" class=\"data row7 col0\" >Ignore features</td>\n",
       "      <td id=\"T_59669_row7_col1\" class=\"data row7 col1\" >20</td>\n",
       "    </tr>\n",
       "    <tr>\n",
       "      <th id=\"T_59669_level0_row8\" class=\"row_heading level0 row8\" >8</th>\n",
       "      <td id=\"T_59669_row8_col0\" class=\"data row8 col0\" >Numeric features</td>\n",
       "      <td id=\"T_59669_row8_col1\" class=\"data row8 col1\" >20</td>\n",
       "    </tr>\n",
       "    <tr>\n",
       "      <th id=\"T_59669_level0_row9\" class=\"row_heading level0 row9\" >9</th>\n",
       "      <td id=\"T_59669_row9_col0\" class=\"data row9 col0\" >Rows with missing values</td>\n",
       "      <td id=\"T_59669_row9_col1\" class=\"data row9 col1\" >1.7%</td>\n",
       "    </tr>\n",
       "    <tr>\n",
       "      <th id=\"T_59669_level0_row10\" class=\"row_heading level0 row10\" >10</th>\n",
       "      <td id=\"T_59669_row10_col0\" class=\"data row10 col0\" >Preprocess</td>\n",
       "      <td id=\"T_59669_row10_col1\" class=\"data row10 col1\" >True</td>\n",
       "    </tr>\n",
       "    <tr>\n",
       "      <th id=\"T_59669_level0_row11\" class=\"row_heading level0 row11\" >11</th>\n",
       "      <td id=\"T_59669_row11_col0\" class=\"data row11 col0\" >Imputation type</td>\n",
       "      <td id=\"T_59669_row11_col1\" class=\"data row11 col1\" >simple</td>\n",
       "    </tr>\n",
       "    <tr>\n",
       "      <th id=\"T_59669_level0_row12\" class=\"row_heading level0 row12\" >12</th>\n",
       "      <td id=\"T_59669_row12_col0\" class=\"data row12 col0\" >Numeric imputation</td>\n",
       "      <td id=\"T_59669_row12_col1\" class=\"data row12 col1\" >mean</td>\n",
       "    </tr>\n",
       "    <tr>\n",
       "      <th id=\"T_59669_level0_row13\" class=\"row_heading level0 row13\" >13</th>\n",
       "      <td id=\"T_59669_row13_col0\" class=\"data row13 col0\" >Categorical imputation</td>\n",
       "      <td id=\"T_59669_row13_col1\" class=\"data row13 col1\" >mode</td>\n",
       "    </tr>\n",
       "    <tr>\n",
       "      <th id=\"T_59669_level0_row14\" class=\"row_heading level0 row14\" >14</th>\n",
       "      <td id=\"T_59669_row14_col0\" class=\"data row14 col0\" >Remove multicollinearity</td>\n",
       "      <td id=\"T_59669_row14_col1\" class=\"data row14 col1\" >True</td>\n",
       "    </tr>\n",
       "    <tr>\n",
       "      <th id=\"T_59669_level0_row15\" class=\"row_heading level0 row15\" >15</th>\n",
       "      <td id=\"T_59669_row15_col0\" class=\"data row15 col0\" >Multicollinearity threshold</td>\n",
       "      <td id=\"T_59669_row15_col1\" class=\"data row15 col1\" >0.850000</td>\n",
       "    </tr>\n",
       "    <tr>\n",
       "      <th id=\"T_59669_level0_row16\" class=\"row_heading level0 row16\" >16</th>\n",
       "      <td id=\"T_59669_row16_col0\" class=\"data row16 col0\" >Fold Generator</td>\n",
       "      <td id=\"T_59669_row16_col1\" class=\"data row16 col1\" >StratifiedKFold</td>\n",
       "    </tr>\n",
       "    <tr>\n",
       "      <th id=\"T_59669_level0_row17\" class=\"row_heading level0 row17\" >17</th>\n",
       "      <td id=\"T_59669_row17_col0\" class=\"data row17 col0\" >Fold Number</td>\n",
       "      <td id=\"T_59669_row17_col1\" class=\"data row17 col1\" >10</td>\n",
       "    </tr>\n",
       "    <tr>\n",
       "      <th id=\"T_59669_level0_row18\" class=\"row_heading level0 row18\" >18</th>\n",
       "      <td id=\"T_59669_row18_col0\" class=\"data row18 col0\" >CPU Jobs</td>\n",
       "      <td id=\"T_59669_row18_col1\" class=\"data row18 col1\" >-1</td>\n",
       "    </tr>\n",
       "    <tr>\n",
       "      <th id=\"T_59669_level0_row19\" class=\"row_heading level0 row19\" >19</th>\n",
       "      <td id=\"T_59669_row19_col0\" class=\"data row19 col0\" >Use GPU</td>\n",
       "      <td id=\"T_59669_row19_col1\" class=\"data row19 col1\" >False</td>\n",
       "    </tr>\n",
       "    <tr>\n",
       "      <th id=\"T_59669_level0_row20\" class=\"row_heading level0 row20\" >20</th>\n",
       "      <td id=\"T_59669_row20_col0\" class=\"data row20 col0\" >Log Experiment</td>\n",
       "      <td id=\"T_59669_row20_col1\" class=\"data row20 col1\" >False</td>\n",
       "    </tr>\n",
       "    <tr>\n",
       "      <th id=\"T_59669_level0_row21\" class=\"row_heading level0 row21\" >21</th>\n",
       "      <td id=\"T_59669_row21_col0\" class=\"data row21 col0\" >Experiment Name</td>\n",
       "      <td id=\"T_59669_row21_col1\" class=\"data row21 col1\" >clf-default-name</td>\n",
       "    </tr>\n",
       "    <tr>\n",
       "      <th id=\"T_59669_level0_row22\" class=\"row_heading level0 row22\" >22</th>\n",
       "      <td id=\"T_59669_row22_col0\" class=\"data row22 col0\" >USI</td>\n",
       "      <td id=\"T_59669_row22_col1\" class=\"data row22 col1\" >4ccf</td>\n",
       "    </tr>\n",
       "  </tbody>\n",
       "</table>\n"
      ],
      "text/plain": [
       "<pandas.io.formats.style.Styler at 0x17dea83fdc0>"
      ]
     },
     "metadata": {},
     "output_type": "display_data"
    },
    {
     "data": {
      "text/plain": [
       "<pycaret.classification.oop.ClassificationExperiment at 0x17debe1d910>"
      ]
     },
     "execution_count": 30,
     "metadata": {},
     "output_type": "execute_result"
    }
   ],
   "source": [
    "exp = ClassificationExperiment()\n",
    "exp.setup(\n",
    "    data=train,\n",
    "    test_data=test,\n",
    "    target=target,\n",
    "    index=False,\n",
    "    fold_shuffle=True,\n",
    "    \n",
    "    # categorical_imputation='mode',\n",
    "    # numeric_imputation='mean',\n",
    "    \n",
    "    categorical_features=cat_feats,\n",
    "    numeric_features=num_feats,\n",
    "    ignore_features=ignore_feats,\n",
    "    ordinal_features={},\n",
    "\n",
    "    max_encoding_ohe=70,\n",
    "    \n",
    "    remove_multicollinearity=True,\n",
    "    multicollinearity_threshold=0.85,\n",
    "    \n",
    "    use_gpu=False,\n",
    "    memory=False,\n",
    "    \n",
    "    session_id=15,\n",
    ")"
   ]
  },
  {
   "cell_type": "code",
   "execution_count": 31,
   "id": "50a1bcc6-dd6f-4939-9f43-d049b748b1ff",
   "metadata": {
    "pycharm": {
     "name": "#%%\n"
    }
   },
   "outputs": [
    {
     "data": {
      "text/html": [],
      "text/plain": [
       "<IPython.core.display.HTML object>"
      ]
     },
     "metadata": {},
     "output_type": "display_data"
    },
    {
     "data": {
      "text/html": [
       "<style type=\"text/css\">\n",
       "#T_cfe1f_row5_col0, #T_cfe1f_row5_col1, #T_cfe1f_row5_col2, #T_cfe1f_row5_col3, #T_cfe1f_row5_col4, #T_cfe1f_row5_col5, #T_cfe1f_row5_col6 {\n",
       "  background: yellow;\n",
       "}\n",
       "</style>\n",
       "<table id=\"T_cfe1f\">\n",
       "  <thead>\n",
       "    <tr>\n",
       "      <th class=\"blank level0\" >&nbsp;</th>\n",
       "      <th id=\"T_cfe1f_level0_col0\" class=\"col_heading level0 col0\" >Accuracy</th>\n",
       "      <th id=\"T_cfe1f_level0_col1\" class=\"col_heading level0 col1\" >AUC</th>\n",
       "      <th id=\"T_cfe1f_level0_col2\" class=\"col_heading level0 col2\" >Recall</th>\n",
       "      <th id=\"T_cfe1f_level0_col3\" class=\"col_heading level0 col3\" >Prec.</th>\n",
       "      <th id=\"T_cfe1f_level0_col4\" class=\"col_heading level0 col4\" >F1</th>\n",
       "      <th id=\"T_cfe1f_level0_col5\" class=\"col_heading level0 col5\" >Kappa</th>\n",
       "      <th id=\"T_cfe1f_level0_col6\" class=\"col_heading level0 col6\" >MCC</th>\n",
       "    </tr>\n",
       "    <tr>\n",
       "      <th class=\"index_name level0\" >Fold</th>\n",
       "      <th class=\"blank col0\" >&nbsp;</th>\n",
       "      <th class=\"blank col1\" >&nbsp;</th>\n",
       "      <th class=\"blank col2\" >&nbsp;</th>\n",
       "      <th class=\"blank col3\" >&nbsp;</th>\n",
       "      <th class=\"blank col4\" >&nbsp;</th>\n",
       "      <th class=\"blank col5\" >&nbsp;</th>\n",
       "      <th class=\"blank col6\" >&nbsp;</th>\n",
       "    </tr>\n",
       "  </thead>\n",
       "  <tbody>\n",
       "    <tr>\n",
       "      <th id=\"T_cfe1f_level0_row0\" class=\"row_heading level0 row0\" >0</th>\n",
       "      <td id=\"T_cfe1f_row0_col0\" class=\"data row0 col0\" >0.8515</td>\n",
       "      <td id=\"T_cfe1f_row0_col1\" class=\"data row0 col1\" >0.8096</td>\n",
       "      <td id=\"T_cfe1f_row0_col2\" class=\"data row0 col2\" >0.3678</td>\n",
       "      <td id=\"T_cfe1f_row0_col3\" class=\"data row0 col3\" >0.7805</td>\n",
       "      <td id=\"T_cfe1f_row0_col4\" class=\"data row0 col4\" >0.5000</td>\n",
       "      <td id=\"T_cfe1f_row0_col5\" class=\"data row0 col5\" >0.4257</td>\n",
       "      <td id=\"T_cfe1f_row0_col6\" class=\"data row0 col6\" >0.4674</td>\n",
       "    </tr>\n",
       "    <tr>\n",
       "      <th id=\"T_cfe1f_level0_row1\" class=\"row_heading level0 row1\" >1</th>\n",
       "      <td id=\"T_cfe1f_row1_col0\" class=\"data row1 col0\" >0.8306</td>\n",
       "      <td id=\"T_cfe1f_row1_col1\" class=\"data row1 col1\" >0.8425</td>\n",
       "      <td id=\"T_cfe1f_row1_col2\" class=\"data row1 col2\" >0.2759</td>\n",
       "      <td id=\"T_cfe1f_row1_col3\" class=\"data row1 col3\" >0.7059</td>\n",
       "      <td id=\"T_cfe1f_row1_col4\" class=\"data row1 col4\" >0.3967</td>\n",
       "      <td id=\"T_cfe1f_row1_col5\" class=\"data row1 col5\" >0.3195</td>\n",
       "      <td id=\"T_cfe1f_row1_col6\" class=\"data row1 col6\" >0.3675</td>\n",
       "    </tr>\n",
       "    <tr>\n",
       "      <th id=\"T_cfe1f_level0_row2\" class=\"row_heading level0 row2\" >2</th>\n",
       "      <td id=\"T_cfe1f_row2_col0\" class=\"data row2 col0\" >0.8558</td>\n",
       "      <td id=\"T_cfe1f_row2_col1\" class=\"data row2 col1\" >0.8251</td>\n",
       "      <td id=\"T_cfe1f_row2_col2\" class=\"data row2 col2\" >0.3837</td>\n",
       "      <td id=\"T_cfe1f_row2_col3\" class=\"data row2 col3\" >0.7857</td>\n",
       "      <td id=\"T_cfe1f_row2_col4\" class=\"data row2 col4\" >0.5156</td>\n",
       "      <td id=\"T_cfe1f_row2_col5\" class=\"data row2 col5\" >0.4424</td>\n",
       "      <td id=\"T_cfe1f_row2_col6\" class=\"data row2 col6\" >0.4818</td>\n",
       "    </tr>\n",
       "    <tr>\n",
       "      <th id=\"T_cfe1f_level0_row3\" class=\"row_heading level0 row3\" >3</th>\n",
       "      <td id=\"T_cfe1f_row3_col0\" class=\"data row3 col0\" >0.8349</td>\n",
       "      <td id=\"T_cfe1f_row3_col1\" class=\"data row3 col1\" >0.8442</td>\n",
       "      <td id=\"T_cfe1f_row3_col2\" class=\"data row3 col2\" >0.2907</td>\n",
       "      <td id=\"T_cfe1f_row3_col3\" class=\"data row3 col3\" >0.7143</td>\n",
       "      <td id=\"T_cfe1f_row3_col4\" class=\"data row3 col4\" >0.4132</td>\n",
       "      <td id=\"T_cfe1f_row3_col5\" class=\"data row3 col5\" >0.3364</td>\n",
       "      <td id=\"T_cfe1f_row3_col6\" class=\"data row3 col6\" >0.3827</td>\n",
       "    </tr>\n",
       "    <tr>\n",
       "      <th id=\"T_cfe1f_level0_row4\" class=\"row_heading level0 row4\" >4</th>\n",
       "      <td id=\"T_cfe1f_row4_col0\" class=\"data row4 col0\" >0.8419</td>\n",
       "      <td id=\"T_cfe1f_row4_col1\" class=\"data row4 col1\" >0.8077</td>\n",
       "      <td id=\"T_cfe1f_row4_col2\" class=\"data row4 col2\" >0.3448</td>\n",
       "      <td id=\"T_cfe1f_row4_col3\" class=\"data row4 col3\" >0.7317</td>\n",
       "      <td id=\"T_cfe1f_row4_col4\" class=\"data row4 col4\" >0.4688</td>\n",
       "      <td id=\"T_cfe1f_row4_col5\" class=\"data row4 col5\" >0.3896</td>\n",
       "      <td id=\"T_cfe1f_row4_col6\" class=\"data row4 col6\" >0.4278</td>\n",
       "    </tr>\n",
       "    <tr>\n",
       "      <th id=\"T_cfe1f_level0_row5\" class=\"row_heading level0 row5\" >Mean</th>\n",
       "      <td id=\"T_cfe1f_row5_col0\" class=\"data row5 col0\" >0.8429</td>\n",
       "      <td id=\"T_cfe1f_row5_col1\" class=\"data row5 col1\" >0.8258</td>\n",
       "      <td id=\"T_cfe1f_row5_col2\" class=\"data row5 col2\" >0.3326</td>\n",
       "      <td id=\"T_cfe1f_row5_col3\" class=\"data row5 col3\" >0.7436</td>\n",
       "      <td id=\"T_cfe1f_row5_col4\" class=\"data row5 col4\" >0.4589</td>\n",
       "      <td id=\"T_cfe1f_row5_col5\" class=\"data row5 col5\" >0.3828</td>\n",
       "      <td id=\"T_cfe1f_row5_col6\" class=\"data row5 col6\" >0.4254</td>\n",
       "    </tr>\n",
       "    <tr>\n",
       "      <th id=\"T_cfe1f_level0_row6\" class=\"row_heading level0 row6\" >Std</th>\n",
       "      <td id=\"T_cfe1f_row6_col0\" class=\"data row6 col0\" >0.0096</td>\n",
       "      <td id=\"T_cfe1f_row6_col1\" class=\"data row6 col1\" >0.0155</td>\n",
       "      <td id=\"T_cfe1f_row6_col2\" class=\"data row6 col2\" >0.0424</td>\n",
       "      <td id=\"T_cfe1f_row6_col3\" class=\"data row6 col3\" >0.0333</td>\n",
       "      <td id=\"T_cfe1f_row6_col4\" class=\"data row6 col4\" >0.0468</td>\n",
       "      <td id=\"T_cfe1f_row6_col5\" class=\"data row6 col5\" >0.0482</td>\n",
       "      <td id=\"T_cfe1f_row6_col6\" class=\"data row6 col6\" >0.0450</td>\n",
       "    </tr>\n",
       "  </tbody>\n",
       "</table>\n"
      ],
      "text/plain": [
       "<pandas.io.formats.style.Styler at 0x17dec1515e0>"
      ]
     },
     "metadata": {},
     "output_type": "display_data"
    },
    {
     "data": {
      "application/vnd.jupyter.widget-view+json": {
       "model_id": "fc5438cf89634d9782e8253d0f21f8da",
       "version_major": 2,
       "version_minor": 0
      },
      "text/plain": [
       "Processing:   0%|          | 0/4 [00:00<?, ?it/s]"
      ]
     },
     "metadata": {},
     "output_type": "display_data"
    }
   ],
   "source": [
    "# train catboost\n",
    "trained_model_catboost = exp.create_model(\n",
    "    estimator='catboost',\n",
    "    iterations=1000,\n",
    "    learning_rate=0.01,\n",
    "    fold=5\n",
    ")"
   ]
  },
  {
   "cell_type": "code",
   "execution_count": 32,
   "id": "c4636c1d-0f20-4b67-bce1-8ae336fd42db",
   "metadata": {
    "pycharm": {
     "name": "#%%\n"
    }
   },
   "outputs": [
    {
     "data": {
      "text/html": [
       "<style type=\"text/css\">\n",
       "</style>\n",
       "<table id=\"T_84d15\">\n",
       "  <thead>\n",
       "    <tr>\n",
       "      <th class=\"blank level0\" >&nbsp;</th>\n",
       "      <th id=\"T_84d15_level0_col0\" class=\"col_heading level0 col0\" >Model</th>\n",
       "      <th id=\"T_84d15_level0_col1\" class=\"col_heading level0 col1\" >Accuracy</th>\n",
       "      <th id=\"T_84d15_level0_col2\" class=\"col_heading level0 col2\" >AUC</th>\n",
       "      <th id=\"T_84d15_level0_col3\" class=\"col_heading level0 col3\" >Recall</th>\n",
       "      <th id=\"T_84d15_level0_col4\" class=\"col_heading level0 col4\" >Prec.</th>\n",
       "      <th id=\"T_84d15_level0_col5\" class=\"col_heading level0 col5\" >F1</th>\n",
       "      <th id=\"T_84d15_level0_col6\" class=\"col_heading level0 col6\" >Kappa</th>\n",
       "      <th id=\"T_84d15_level0_col7\" class=\"col_heading level0 col7\" >MCC</th>\n",
       "    </tr>\n",
       "  </thead>\n",
       "  <tbody>\n",
       "    <tr>\n",
       "      <th id=\"T_84d15_level0_row0\" class=\"row_heading level0 row0\" >0</th>\n",
       "      <td id=\"T_84d15_row0_col0\" class=\"data row0 col0\" >CatBoost Classifier</td>\n",
       "      <td id=\"T_84d15_row0_col1\" class=\"data row0 col1\" >0.8197</td>\n",
       "      <td id=\"T_84d15_row0_col2\" class=\"data row0 col2\" >0.7825</td>\n",
       "      <td id=\"T_84d15_row0_col3\" class=\"data row0 col3\" >0.2095</td>\n",
       "      <td id=\"T_84d15_row0_col4\" class=\"data row0 col4\" >0.6471</td>\n",
       "      <td id=\"T_84d15_row0_col5\" class=\"data row0 col5\" >0.3165</td>\n",
       "      <td id=\"T_84d15_row0_col6\" class=\"data row0 col6\" >0.2427</td>\n",
       "      <td id=\"T_84d15_row0_col7\" class=\"data row0 col7\" >0.2944</td>\n",
       "    </tr>\n",
       "  </tbody>\n",
       "</table>\n"
      ],
      "text/plain": [
       "<pandas.io.formats.style.Styler at 0x17deabc7d30>"
      ]
     },
     "metadata": {},
     "output_type": "display_data"
    },
    {
     "name": "stdout",
     "output_type": "stream",
     "text": [
      "{'0': {'precision': 0.8722358722358723,\n",
      "       'recall': 0.8412322274881516,\n",
      "       'f1-score': 0.8564535585042219,\n",
      "       'support': 422},\n",
      " '1': {'precision': 0.44166666666666665,\n",
      "       'recall': 0.5047619047619047,\n",
      "       'f1-score': 0.4711111111111111,\n",
      "       'support': 105},\n",
      " 'accuracy': 0.7741935483870968,\n",
      " 'macro avg': {'precision': 0.6569512694512695,\n",
      "               'recall': 0.6729970661250282,\n",
      "               'f1-score': 0.6637823348076665,\n",
      "               'support': 527},\n",
      " 'weighted avg': {'precision': 0.7864488388681937,\n",
      "                  'recall': 0.7741935483870968,\n",
      "                  'f1-score': 0.7796775490615716,\n",
      "                  'support': 527},\n",
      " 'threshold': 0.25,\n",
      " 'TN': 355,\n",
      " 'FP': 67,\n",
      " 'FN': 52,\n",
      " 'TP': 53,\n",
      " 'AUC': 0.7825,\n",
      " 'model NPL': 12.78,\n",
      " ' real NPL': 19.92,\n",
      " 'approval rate': 77.23,\n",
      " 'good correct': 84.12,\n",
      " 'bad correct': 50.48}\n"
     ]
    }
   ],
   "source": [
    "# GET PERFORMANCE METRICS:\n",
    "threshold = 0.25\n",
    "predictions = exp.predict_model(trained_model_catboost, raw_score=True, encoded_labels=True)\n",
    "predictions['prediction_label'] = (predictions['prediction_score_1'] > threshold).astype(int)\n",
    "# predictions.to_excel('predictions.xlsx', index=False)\n",
    "\n",
    "report         = classification_report(predictions[target], predictions['prediction_label'], output_dict=True)\n",
    "tn, fp, fn, tp = confusion_matrix(     predictions[target], predictions['prediction_label']).ravel()\n",
    "auc            = roc_auc_score(        predictions[target], predictions['prediction_score_1'])\n",
    "\n",
    "report['threshold'] = threshold\n",
    "report['TN'] = tn\n",
    "report['FP'] = fp\n",
    "report['FN'] = fn\n",
    "report['TP'] = tp\n",
    "report['AUC'] = round(auc, 4)\n",
    "report['model NPL'] = round(fn/(tn+fn)*100, 2)\n",
    "report[' real NPL'] = round(report['1']['support']/(report['1']['support'] + report['0']['support']) * 100, 2)\n",
    "report['approval rate'] = round((fn + tn)/report['weighted avg']['support']*100, 2)\n",
    "report['good correct'] = round(tn/(fp+tn)*100, 2)\n",
    "report['bad correct'] = round(tp/(fn+tp)*100, 2)\n",
    "\n",
    "pprint(report, sort_dicts=False)"
   ]
  },
  {
   "cell_type": "code",
   "execution_count": 33,
   "id": "efbadab0-de90-4ca2-a59d-b09fcea4fd4d",
   "metadata": {
    "pycharm": {
     "name": "#%%\n"
    }
   },
   "outputs": [
    {
     "data": {
      "text/html": [
       "<style type=\"text/css\">\n",
       "</style>\n",
       "<table id=\"T_b78ea\">\n",
       "  <thead>\n",
       "    <tr>\n",
       "      <th class=\"blank level0\" >&nbsp;</th>\n",
       "      <th id=\"T_b78ea_level0_col0\" class=\"col_heading level0 col0\" >Model</th>\n",
       "      <th id=\"T_b78ea_level0_col1\" class=\"col_heading level0 col1\" >Accuracy</th>\n",
       "      <th id=\"T_b78ea_level0_col2\" class=\"col_heading level0 col2\" >AUC</th>\n",
       "      <th id=\"T_b78ea_level0_col3\" class=\"col_heading level0 col3\" >Recall</th>\n",
       "      <th id=\"T_b78ea_level0_col4\" class=\"col_heading level0 col4\" >Prec.</th>\n",
       "      <th id=\"T_b78ea_level0_col5\" class=\"col_heading level0 col5\" >F1</th>\n",
       "      <th id=\"T_b78ea_level0_col6\" class=\"col_heading level0 col6\" >Kappa</th>\n",
       "      <th id=\"T_b78ea_level0_col7\" class=\"col_heading level0 col7\" >MCC</th>\n",
       "    </tr>\n",
       "  </thead>\n",
       "  <tbody>\n",
       "    <tr>\n",
       "      <th id=\"T_b78ea_level0_row0\" class=\"row_heading level0 row0\" >0</th>\n",
       "      <td id=\"T_b78ea_row0_col0\" class=\"data row0 col0\" >CatBoost Classifier</td>\n",
       "      <td id=\"T_b78ea_row0_col1\" class=\"data row0 col1\" >0.8197</td>\n",
       "      <td id=\"T_b78ea_row0_col2\" class=\"data row0 col2\" >0.7825</td>\n",
       "      <td id=\"T_b78ea_row0_col3\" class=\"data row0 col3\" >0.2095</td>\n",
       "      <td id=\"T_b78ea_row0_col4\" class=\"data row0 col4\" >0.6471</td>\n",
       "      <td id=\"T_b78ea_row0_col5\" class=\"data row0 col5\" >0.3165</td>\n",
       "      <td id=\"T_b78ea_row0_col6\" class=\"data row0 col6\" >0.2427</td>\n",
       "      <td id=\"T_b78ea_row0_col7\" class=\"data row0 col7\" >0.2944</td>\n",
       "    </tr>\n",
       "  </tbody>\n",
       "</table>\n"
      ],
      "text/plain": [
       "<pandas.io.formats.style.Styler at 0x17dec151a00>"
      ]
     },
     "metadata": {},
     "output_type": "display_data"
    },
    {
     "data": {
      "text/html": [
       "<div>\n",
       "<style scoped>\n",
       "    .dataframe tbody tr th:only-of-type {\n",
       "        vertical-align: middle;\n",
       "    }\n",
       "\n",
       "    .dataframe tbody tr th {\n",
       "        vertical-align: top;\n",
       "    }\n",
       "\n",
       "    .dataframe thead th {\n",
       "        text-align: right;\n",
       "    }\n",
       "</style>\n",
       "<table border=\"1\" class=\"dataframe\">\n",
       "  <thead>\n",
       "    <tr style=\"text-align: right;\">\n",
       "      <th></th>\n",
       "      <th>threshold</th>\n",
       "      <th>Accuracy</th>\n",
       "      <th>AUC</th>\n",
       "      <th>TN</th>\n",
       "      <th>FP</th>\n",
       "      <th>FN</th>\n",
       "      <th>TP</th>\n",
       "    </tr>\n",
       "  </thead>\n",
       "  <tbody>\n",
       "    <tr>\n",
       "      <th>0</th>\n",
       "      <td>0.10</td>\n",
       "      <td>0.597723</td>\n",
       "      <td>0.782476</td>\n",
       "      <td>224.0</td>\n",
       "      <td>198.0</td>\n",
       "      <td>14.0</td>\n",
       "      <td>91.0</td>\n",
       "    </tr>\n",
       "    <tr>\n",
       "      <th>1</th>\n",
       "      <td>0.15</td>\n",
       "      <td>0.683112</td>\n",
       "      <td>0.782476</td>\n",
       "      <td>284.0</td>\n",
       "      <td>138.0</td>\n",
       "      <td>29.0</td>\n",
       "      <td>76.0</td>\n",
       "    </tr>\n",
       "    <tr>\n",
       "      <th>2</th>\n",
       "      <td>0.20</td>\n",
       "      <td>0.741935</td>\n",
       "      <td>0.782476</td>\n",
       "      <td>325.0</td>\n",
       "      <td>97.0</td>\n",
       "      <td>39.0</td>\n",
       "      <td>66.0</td>\n",
       "    </tr>\n",
       "    <tr>\n",
       "      <th>3</th>\n",
       "      <td>0.25</td>\n",
       "      <td>0.774194</td>\n",
       "      <td>0.782476</td>\n",
       "      <td>355.0</td>\n",
       "      <td>67.0</td>\n",
       "      <td>52.0</td>\n",
       "      <td>53.0</td>\n",
       "    </tr>\n",
       "    <tr>\n",
       "      <th>4</th>\n",
       "      <td>0.30</td>\n",
       "      <td>0.791271</td>\n",
       "      <td>0.782476</td>\n",
       "      <td>381.0</td>\n",
       "      <td>41.0</td>\n",
       "      <td>69.0</td>\n",
       "      <td>36.0</td>\n",
       "    </tr>\n",
       "  </tbody>\n",
       "</table>\n",
       "</div>"
      ],
      "text/plain": [
       "   threshold  Accuracy       AUC     TN     FP    FN    TP\n",
       "0       0.10  0.597723  0.782476  224.0  198.0  14.0  91.0\n",
       "1       0.15  0.683112  0.782476  284.0  138.0  29.0  76.0\n",
       "2       0.20  0.741935  0.782476  325.0   97.0  39.0  66.0\n",
       "3       0.25  0.774194  0.782476  355.0   67.0  52.0  53.0\n",
       "4       0.30  0.791271  0.782476  381.0   41.0  69.0  36.0"
      ]
     },
     "execution_count": 33,
     "metadata": {},
     "output_type": "execute_result"
    }
   ],
   "source": [
    "# THRESHOLD TEST\n",
    "results = pd.DataFrame(columns=['threshold', 'Accuracy', 'AUC', 'TN', 'FP', 'FN', 'TP'])\n",
    "predictions = exp.predict_model(trained_model_catboost, raw_score=True, encoded_labels=True)\n",
    "\n",
    "for thres in [x / 100 for x in range(10, 31, 5)]:\n",
    "    predictions['prediction_label'] = (predictions['prediction_score_1'] > thres).astype(int)\n",
    "    tn, fp, fn, tp = confusion_matrix(predictions[target], predictions['prediction_label']).ravel()\n",
    "    auc = roc_auc_score(predictions[target], predictions['prediction_score_1'])\n",
    "    accuracy = accuracy_score(predictions[target], predictions['prediction_label'])\n",
    "\n",
    "    row = [thres, accuracy, auc, tn, fp, fn, tp]\n",
    "    results.loc[len(results)] = row\n",
    "    \n",
    "results"
   ]
  },
  {
   "cell_type": "code",
   "execution_count": 34,
   "id": "3ffadffc-d1d3-4cf7-9f0a-f501d649b219",
   "metadata": {
    "pycharm": {
     "name": "#%%\n"
    }
   },
   "outputs": [
    {
     "data": {
      "image/png": "[encoded data removed]",
      "text/plain": [
       "<Figure size 800x910 with 2 Axes>"
      ]
     },
     "metadata": {},
     "output_type": "display_data"
    }
   ],
   "source": [
    "exp.interpret_model(trained_model_catboost)"
   ]
  }
 ],
 "metadata": {
  "kernelspec": {
   "display_name": "Python 3 (ipykernel)",
   "language": "python",
   "name": "python3"
  },
  "language_info": {
   "codemirror_mode": {
    "name": "ipython",
    "version": 3
   },
   "file_extension": ".py",
   "mimetype": "text/x-python",
   "name": "python",
   "nbconvert_exporter": "python",
   "pygments_lexer": "ipython3",
   "version": "3.8.17"
  }
 },
 "nbformat": 4,
 "nbformat_minor": 5
}
